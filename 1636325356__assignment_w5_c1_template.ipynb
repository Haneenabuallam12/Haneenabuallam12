{
  "nbformat": 4,
  "nbformat_minor": 0,
  "metadata": {
    "kernelspec": {
      "display_name": "Python 3",
      "language": "python",
      "name": "python3"
    },
    "language_info": {
      "codemirror_mode": {
        "name": "ipython",
        "version": 3
      },
      "file_extension": ".py",
      "mimetype": "text/x-python",
      "name": "python",
      "nbconvert_exporter": "python",
      "pygments_lexer": "ipython3",
      "version": "3.8.5"
    },
    "colab": {
      "name": "1636325356__assignment_w5_c1_template.ipynb",
      "provenance": [],
      "include_colab_link": true
    }
  },
  "cells": [
    {
      "cell_type": "markdown",
      "metadata": {
        "id": "view-in-github",
        "colab_type": "text"
      },
      "source": [
        "<a href=\"https://colab.research.google.com/github/Haneenabuallam12/Haneenabuallam12/blob/main/1636325356__assignment_w5_c1_template.ipynb\" target=\"_parent\"><img src=\"https://colab.research.google.com/assets/colab-badge.svg\" alt=\"Open In Colab\"/></a>"
      ]
    },
    {
      "cell_type": "markdown",
      "metadata": {
        "id": "4LS_k-1YJbT-"
      },
      "source": [
        "Week 5, Assignment C1:\n",
        "\n",
        "Logistic Regression with Yahoo! Finance API in Python\n",
        "\n",
        "In this notebook, we will study Logistic Regression using the Yahoo! Finance API in Python.\n",
        "\n",
        "Please complete the lines bellow where you see \"#TODO\"."
      ]
    },
    {
      "cell_type": "code",
      "metadata": {
        "colab": {
          "base_uri": "https://localhost:8080/"
        },
        "id": "umCDy4ZePNEd",
        "outputId": "2d6b1d3b-a035-4e63-befb-363b024008f3"
      },
      "source": [
        "!pip install yfinance"
      ],
      "execution_count": 2,
      "outputs": [
        {
          "output_type": "stream",
          "name": "stdout",
          "text": [
            "Collecting yfinance\n",
            "  Downloading yfinance-0.1.64.tar.gz (26 kB)\n",
            "Requirement already satisfied: pandas>=0.24 in /usr/local/lib/python3.7/dist-packages (from yfinance) (1.1.5)\n",
            "Requirement already satisfied: numpy>=1.15 in /usr/local/lib/python3.7/dist-packages (from yfinance) (1.19.5)\n",
            "Requirement already satisfied: requests>=2.20 in /usr/local/lib/python3.7/dist-packages (from yfinance) (2.23.0)\n",
            "Requirement already satisfied: multitasking>=0.0.7 in /usr/local/lib/python3.7/dist-packages (from yfinance) (0.0.9)\n",
            "Collecting lxml>=4.5.1\n",
            "  Downloading lxml-4.6.4-cp37-cp37m-manylinux_2_17_x86_64.manylinux2014_x86_64.manylinux_2_24_x86_64.whl (6.3 MB)\n",
            "\u001b[K     |████████████████████████████████| 6.3 MB 6.5 MB/s \n",
            "\u001b[?25hRequirement already satisfied: pytz>=2017.2 in /usr/local/lib/python3.7/dist-packages (from pandas>=0.24->yfinance) (2018.9)\n",
            "Requirement already satisfied: python-dateutil>=2.7.3 in /usr/local/lib/python3.7/dist-packages (from pandas>=0.24->yfinance) (2.8.2)\n",
            "Requirement already satisfied: six>=1.5 in /usr/local/lib/python3.7/dist-packages (from python-dateutil>=2.7.3->pandas>=0.24->yfinance) (1.15.0)\n",
            "Requirement already satisfied: chardet<4,>=3.0.2 in /usr/local/lib/python3.7/dist-packages (from requests>=2.20->yfinance) (3.0.4)\n",
            "Requirement already satisfied: idna<3,>=2.5 in /usr/local/lib/python3.7/dist-packages (from requests>=2.20->yfinance) (2.10)\n",
            "Requirement already satisfied: urllib3!=1.25.0,!=1.25.1,<1.26,>=1.21.1 in /usr/local/lib/python3.7/dist-packages (from requests>=2.20->yfinance) (1.24.3)\n",
            "Requirement already satisfied: certifi>=2017.4.17 in /usr/local/lib/python3.7/dist-packages (from requests>=2.20->yfinance) (2021.5.30)\n",
            "Building wheels for collected packages: yfinance\n",
            "  Building wheel for yfinance (setup.py) ... \u001b[?25l\u001b[?25hdone\n",
            "  Created wheel for yfinance: filename=yfinance-0.1.64-py2.py3-none-any.whl size=24109 sha256=877f9db0781fb65a51081fe66275744c9685f65635c47d7620402c93df6d7f94\n",
            "  Stored in directory: /root/.cache/pip/wheels/86/fe/9b/a4d3d78796b699e37065e5b6c27b75cff448ddb8b24943c288\n",
            "Successfully built yfinance\n",
            "Installing collected packages: lxml, yfinance\n",
            "  Attempting uninstall: lxml\n",
            "    Found existing installation: lxml 4.2.6\n",
            "    Uninstalling lxml-4.2.6:\n",
            "      Successfully uninstalled lxml-4.2.6\n",
            "Successfully installed lxml-4.6.4 yfinance-0.1.64\n"
          ]
        }
      ]
    },
    {
      "cell_type": "code",
      "metadata": {
        "colab": {
          "base_uri": "https://localhost:8080/"
        },
        "id": "CExpracpK-OX",
        "outputId": "976602a9-e678-419d-ae5c-d61278b40c29"
      },
      "source": [
        "!Pip install sklearn"
      ],
      "execution_count": 29,
      "outputs": [
        {
          "output_type": "stream",
          "name": "stdout",
          "text": [
            "/bin/bash: Pip: command not found\n"
          ]
        }
      ]
    },
    {
      "cell_type": "code",
      "metadata": {
        "id": "qIzk7LEDJbUE"
      },
      "source": [
        "#Objective 1.\n",
        "#Use this cell to import the Numpy (as np), Pandas (as pd), and YFinance (as yf) packages.\n",
        "import datetime as dt\n",
        "import numpy as np\n",
        "import pandas as pd\n",
        "import yfinance as yf\n",
        "\n",
        "#Our work will also require some components of the Sklearn and Pandas_Datareader packages as imported below:\n",
        "\n",
        "from sklearn.linear_model import LogisticRegression\n",
        "from sklearn import metrics\n",
        "from sklearn.model_selection import cross_val_score\n",
        "#from sklearn.cross_validation import train_test_split\n",
        "from sklearn.model_selection import train_test_split #import it \n",
        "from pandas_datareader import data as pdr\n",
        "yf.pdr_override()"
      ],
      "execution_count": 31,
      "outputs": []
    },
    {
      "cell_type": "code",
      "metadata": {
        "id": "A1r3q9JGJbUH"
      },
      "source": [
        "#Objective 2.\n",
        "#Select a stock symbol for a stock whose historical data is available on the Yahoo! Finance website.  Store the\n",
        "#string of your chosen symbol to the new variable \"stock_symbol\".\n",
        "start = dt.datetime(2020,9,22)\n",
        "end = dt.datetime.now()\n",
        "\n",
        "stock_symbol = ['AVAX-USD']"
      ],
      "execution_count": 4,
      "outputs": []
    },
    {
      "cell_type": "code",
      "metadata": {
        "colab": {
          "base_uri": "https://localhost:8080/"
        },
        "id": "A-EckJAhJbUI",
        "outputId": "f274d9ac-8907-47ef-ac6f-853df68c84ca"
      },
      "source": [
        "#Objective 3.\n",
        "#Use the function \"pdr.get_data_yahoo(stock_symbol, start_date, end_date)\" to generate a Pandas dataframe of\n",
        "#historical stock data for your chosen stock.  Retain only the first four columns of the dataframe.  Be sure to \n",
        "#drop any rows containing NaN's, and take a peek at the resulting dataframe to make sure everything looks good.\n",
        "\n",
        "#df = pdr.get_data_yahoo(stock_symbol, start, end)\n",
        "#df1=df  \n",
        "\n",
        "deletd_column =[]\n",
        "df = pdr.get_data_yahoo(stock_symbol, start, end).dropna()\n",
        "df1 = df[[\"Open\",\"Adj Close\"]]\n",
        "\n",
        "#df = #TODO\n",
        "#df.head()\n",
        "#df.shape\n",
        "df1.columns\n",
        "#df[\"Open\"]\n",
        "#df = #TODO"
      ],
      "execution_count": 47,
      "outputs": [
        {
          "output_type": "stream",
          "name": "stdout",
          "text": [
            "\r[*********************100%***********************]  1 of 1 completed\n"
          ]
        },
        {
          "output_type": "execute_result",
          "data": {
            "text/plain": [
              "Index(['Open', 'Adj Close'], dtype='object')"
            ]
          },
          "metadata": {},
          "execution_count": 47
        }
      ]
    },
    {
      "cell_type": "code",
      "metadata": {
        "colab": {
          "base_uri": "https://localhost:8080/",
          "height": 450
        },
        "id": "S__gBKX8trS4",
        "outputId": "d2de2b41-8d61-40f3-b7e2-68cc4e7e5ebf"
      },
      "source": [
        "df1"
      ],
      "execution_count": 48,
      "outputs": [
        {
          "output_type": "execute_result",
          "data": {
            "text/html": [
              "<div>\n",
              "<style scoped>\n",
              "    .dataframe tbody tr th:only-of-type {\n",
              "        vertical-align: middle;\n",
              "    }\n",
              "\n",
              "    .dataframe tbody tr th {\n",
              "        vertical-align: top;\n",
              "    }\n",
              "\n",
              "    .dataframe thead th {\n",
              "        text-align: right;\n",
              "    }\n",
              "</style>\n",
              "<table border=\"1\" class=\"dataframe\">\n",
              "  <thead>\n",
              "    <tr style=\"text-align: right;\">\n",
              "      <th></th>\n",
              "      <th>Open</th>\n",
              "      <th>Adj Close</th>\n",
              "    </tr>\n",
              "    <tr>\n",
              "      <th>Date</th>\n",
              "      <th></th>\n",
              "      <th></th>\n",
              "    </tr>\n",
              "  </thead>\n",
              "  <tbody>\n",
              "    <tr>\n",
              "      <th>2020-09-22</th>\n",
              "      <td>4.986754</td>\n",
              "      <td>5.234632</td>\n",
              "    </tr>\n",
              "    <tr>\n",
              "      <th>2020-09-23</th>\n",
              "      <td>5.234104</td>\n",
              "      <td>3.521812</td>\n",
              "    </tr>\n",
              "    <tr>\n",
              "      <th>2020-09-24</th>\n",
              "      <td>3.521812</td>\n",
              "      <td>4.578369</td>\n",
              "    </tr>\n",
              "    <tr>\n",
              "      <th>2020-09-25</th>\n",
              "      <td>4.585006</td>\n",
              "      <td>4.711471</td>\n",
              "    </tr>\n",
              "    <tr>\n",
              "      <th>2020-09-26</th>\n",
              "      <td>4.725395</td>\n",
              "      <td>4.541182</td>\n",
              "    </tr>\n",
              "    <tr>\n",
              "      <th>...</th>\n",
              "      <td>...</td>\n",
              "      <td>...</td>\n",
              "    </tr>\n",
              "    <tr>\n",
              "      <th>2021-11-05</th>\n",
              "      <td>79.047600</td>\n",
              "      <td>74.364738</td>\n",
              "    </tr>\n",
              "    <tr>\n",
              "      <th>2021-11-06</th>\n",
              "      <td>74.296654</td>\n",
              "      <td>78.685204</td>\n",
              "    </tr>\n",
              "    <tr>\n",
              "      <th>2021-11-07</th>\n",
              "      <td>78.805908</td>\n",
              "      <td>87.705421</td>\n",
              "    </tr>\n",
              "    <tr>\n",
              "      <th>2021-11-08</th>\n",
              "      <td>87.705994</td>\n",
              "      <td>91.184784</td>\n",
              "    </tr>\n",
              "    <tr>\n",
              "      <th>2021-11-09</th>\n",
              "      <td>90.387238</td>\n",
              "      <td>89.794899</td>\n",
              "    </tr>\n",
              "  </tbody>\n",
              "</table>\n",
              "<p>408 rows × 2 columns</p>\n",
              "</div>"
            ],
            "text/plain": [
              "                 Open  Adj Close\n",
              "Date                            \n",
              "2020-09-22   4.986754   5.234632\n",
              "2020-09-23   5.234104   3.521812\n",
              "2020-09-24   3.521812   4.578369\n",
              "2020-09-25   4.585006   4.711471\n",
              "2020-09-26   4.725395   4.541182\n",
              "...               ...        ...\n",
              "2021-11-05  79.047600  74.364738\n",
              "2021-11-06  74.296654  78.685204\n",
              "2021-11-07  78.805908  87.705421\n",
              "2021-11-08  87.705994  91.184784\n",
              "2021-11-09  90.387238  89.794899\n",
              "\n",
              "[408 rows x 2 columns]"
            ]
          },
          "metadata": {},
          "execution_count": 48
        }
      ]
    },
    {
      "cell_type": "code",
      "metadata": {
        "id": "-9rvMjBSJbUJ",
        "colab": {
          "base_uri": "https://localhost:8080/",
          "height": 756
        },
        "outputId": "ea93780b-24bc-40a6-e967-2c0ee96f9efc"
      },
      "source": [
        "#Objective 4.\n",
        "#Use the historical data to define some predictor variables.  Add these variables to the dataframe.  Include, at a\n",
        "#minimum, (Predictor.I) the rolling average closing price over the past fifteen (15) days and (Predictor.II) the\n",
        "#change in opening price over the past one (1) day.  Be sure to again drop any rows containing NaN's, and take a\n",
        "#peek at the resulting dataframe to make sure everything looks good.  Store the dataframe as the new variable \"X\".\n",
        "\n",
        "#df['Close_15_Rolling'] = #TODO\n",
        "#df['Open_1_Change'] = #TODO\n",
        "#df = #TODO\n",
        "#X = #TODO\n",
        "df1['Close_15_Rolling'] = df1['Adj Close'].rolling(16).mean() #start from zero ?\n",
        "\n",
        "df1['Open_1_Change'] = df1['Open'].diff()\n",
        "\n",
        "df1['Adj Close_Change'] = df1['Adj Close'].diff(-1)\n",
        "\n",
        "df1=df1.dropna()\n",
        "X=df1\n",
        "X"
      ],
      "execution_count": 49,
      "outputs": [
        {
          "output_type": "stream",
          "name": "stderr",
          "text": [
            "/usr/local/lib/python3.7/dist-packages/ipykernel_launcher.py:11: SettingWithCopyWarning: \n",
            "A value is trying to be set on a copy of a slice from a DataFrame.\n",
            "Try using .loc[row_indexer,col_indexer] = value instead\n",
            "\n",
            "See the caveats in the documentation: https://pandas.pydata.org/pandas-docs/stable/user_guide/indexing.html#returning-a-view-versus-a-copy\n",
            "  # This is added back by InteractiveShellApp.init_path()\n",
            "/usr/local/lib/python3.7/dist-packages/ipykernel_launcher.py:13: SettingWithCopyWarning: \n",
            "A value is trying to be set on a copy of a slice from a DataFrame.\n",
            "Try using .loc[row_indexer,col_indexer] = value instead\n",
            "\n",
            "See the caveats in the documentation: https://pandas.pydata.org/pandas-docs/stable/user_guide/indexing.html#returning-a-view-versus-a-copy\n",
            "  del sys.path[0]\n",
            "/usr/local/lib/python3.7/dist-packages/ipykernel_launcher.py:15: SettingWithCopyWarning: \n",
            "A value is trying to be set on a copy of a slice from a DataFrame.\n",
            "Try using .loc[row_indexer,col_indexer] = value instead\n",
            "\n",
            "See the caveats in the documentation: https://pandas.pydata.org/pandas-docs/stable/user_guide/indexing.html#returning-a-view-versus-a-copy\n",
            "  from ipykernel import kernelapp as app\n"
          ]
        },
        {
          "output_type": "execute_result",
          "data": {
            "text/html": [
              "<div>\n",
              "<style scoped>\n",
              "    .dataframe tbody tr th:only-of-type {\n",
              "        vertical-align: middle;\n",
              "    }\n",
              "\n",
              "    .dataframe tbody tr th {\n",
              "        vertical-align: top;\n",
              "    }\n",
              "\n",
              "    .dataframe thead th {\n",
              "        text-align: right;\n",
              "    }\n",
              "</style>\n",
              "<table border=\"1\" class=\"dataframe\">\n",
              "  <thead>\n",
              "    <tr style=\"text-align: right;\">\n",
              "      <th></th>\n",
              "      <th>Open</th>\n",
              "      <th>Adj Close</th>\n",
              "      <th>Close_15_Rolling</th>\n",
              "      <th>Open_1_Change</th>\n",
              "      <th>Adj Close_Change</th>\n",
              "    </tr>\n",
              "    <tr>\n",
              "      <th>Date</th>\n",
              "      <th></th>\n",
              "      <th></th>\n",
              "      <th></th>\n",
              "      <th></th>\n",
              "      <th></th>\n",
              "    </tr>\n",
              "  </thead>\n",
              "  <tbody>\n",
              "    <tr>\n",
              "      <th>2020-10-11</th>\n",
              "      <td>4.022435</td>\n",
              "      <td>4.095879</td>\n",
              "      <td>4.193274</td>\n",
              "      <td>-0.219528</td>\n",
              "      <td>-0.054177</td>\n",
              "    </tr>\n",
              "    <tr>\n",
              "      <th>2020-10-14</th>\n",
              "      <td>4.483894</td>\n",
              "      <td>4.150056</td>\n",
              "      <td>4.125488</td>\n",
              "      <td>0.461459</td>\n",
              "      <td>0.022703</td>\n",
              "    </tr>\n",
              "    <tr>\n",
              "      <th>2020-10-15</th>\n",
              "      <td>4.152928</td>\n",
              "      <td>4.127353</td>\n",
              "      <td>4.163335</td>\n",
              "      <td>-0.330966</td>\n",
              "      <td>0.086873</td>\n",
              "    </tr>\n",
              "    <tr>\n",
              "      <th>2020-10-16</th>\n",
              "      <td>4.127866</td>\n",
              "      <td>4.040480</td>\n",
              "      <td>4.129717</td>\n",
              "      <td>-0.025062</td>\n",
              "      <td>-0.155529</td>\n",
              "    </tr>\n",
              "    <tr>\n",
              "      <th>2020-10-17</th>\n",
              "      <td>4.038541</td>\n",
              "      <td>4.196009</td>\n",
              "      <td>4.097500</td>\n",
              "      <td>-0.089325</td>\n",
              "      <td>0.079947</td>\n",
              "    </tr>\n",
              "    <tr>\n",
              "      <th>...</th>\n",
              "      <td>...</td>\n",
              "      <td>...</td>\n",
              "      <td>...</td>\n",
              "      <td>...</td>\n",
              "      <td>...</td>\n",
              "    </tr>\n",
              "    <tr>\n",
              "      <th>2021-11-04</th>\n",
              "      <td>75.577637</td>\n",
              "      <td>79.293221</td>\n",
              "      <td>66.237581</td>\n",
              "      <td>7.804550</td>\n",
              "      <td>4.928482</td>\n",
              "    </tr>\n",
              "    <tr>\n",
              "      <th>2021-11-05</th>\n",
              "      <td>79.047600</td>\n",
              "      <td>74.364738</td>\n",
              "      <td>67.162887</td>\n",
              "      <td>3.469963</td>\n",
              "      <td>-4.320465</td>\n",
              "    </tr>\n",
              "    <tr>\n",
              "      <th>2021-11-06</th>\n",
              "      <td>74.296654</td>\n",
              "      <td>78.685204</td>\n",
              "      <td>68.248849</td>\n",
              "      <td>-4.750946</td>\n",
              "      <td>-9.020218</td>\n",
              "    </tr>\n",
              "    <tr>\n",
              "      <th>2021-11-07</th>\n",
              "      <td>78.805908</td>\n",
              "      <td>87.705421</td>\n",
              "      <td>69.639482</td>\n",
              "      <td>4.509254</td>\n",
              "      <td>-3.479362</td>\n",
              "    </tr>\n",
              "    <tr>\n",
              "      <th>2021-11-08</th>\n",
              "      <td>87.705994</td>\n",
              "      <td>91.184784</td>\n",
              "      <td>71.247333</td>\n",
              "      <td>8.900085</td>\n",
              "      <td>1.389885</td>\n",
              "    </tr>\n",
              "  </tbody>\n",
              "</table>\n",
              "<p>392 rows × 5 columns</p>\n",
              "</div>"
            ],
            "text/plain": [
              "                 Open  Adj Close  ...  Open_1_Change  Adj Close_Change\n",
              "Date                              ...                                 \n",
              "2020-10-11   4.022435   4.095879  ...      -0.219528         -0.054177\n",
              "2020-10-14   4.483894   4.150056  ...       0.461459          0.022703\n",
              "2020-10-15   4.152928   4.127353  ...      -0.330966          0.086873\n",
              "2020-10-16   4.127866   4.040480  ...      -0.025062         -0.155529\n",
              "2020-10-17   4.038541   4.196009  ...      -0.089325          0.079947\n",
              "...               ...        ...  ...            ...               ...\n",
              "2021-11-04  75.577637  79.293221  ...       7.804550          4.928482\n",
              "2021-11-05  79.047600  74.364738  ...       3.469963         -4.320465\n",
              "2021-11-06  74.296654  78.685204  ...      -4.750946         -9.020218\n",
              "2021-11-07  78.805908  87.705421  ...       4.509254         -3.479362\n",
              "2021-11-08  87.705994  91.184784  ...       8.900085          1.389885\n",
              "\n",
              "[392 rows x 5 columns]"
            ]
          },
          "metadata": {},
          "execution_count": 49
        }
      ]
    },
    {
      "cell_type": "code",
      "metadata": {
        "id": "CnXFqtPGJbUK",
        "colab": {
          "base_uri": "https://localhost:8080/"
        },
        "outputId": "7df89b8b-37f8-4331-be4f-f215f070c3bd"
      },
      "source": [
        "#Objective 5.\n",
        "#Define the target or dependent variable to be one (1) if the change in closing price over the past one (1) day is\n",
        "#nonnegative and negative one (-1) if the change in closing price over the past one (1) day is negative.  This\n",
        "#variable's values should be forward-looking (i.e., you should subtract today's price from tomorrow's price rather\n",
        "#than subtracting yesterday's price from today's price).  Store the resulting values as the new variable \"y\".  You\n",
        "#may find the \"np.where(*args)\" function to be useful.  Look it up in Numpy documentation for support.\n",
        "\n",
        "y = X[\"Adj Close_Change\"]\n",
        "y = np.where(y<0,-1,1)\n",
        "y"
      ],
      "execution_count": 50,
      "outputs": [
        {
          "output_type": "execute_result",
          "data": {
            "text/plain": [
              "array([-1,  1,  1, -1,  1,  1,  1, -1, -1,  1,  1,  1, -1,  1,  1,  1,  1,\n",
              "        1, -1,  1,  1,  1, -1, -1,  1, -1,  1, -1,  1,  1, -1,  1, -1, -1,\n",
              "       -1,  1,  1, -1, -1,  1, -1, -1,  1,  1, -1, -1, -1,  1,  1, -1, -1,\n",
              "        1, -1,  1,  1,  1, -1,  1, -1, -1,  1,  1, -1, -1,  1, -1, -1,  1,\n",
              "        1,  1,  1, -1,  1,  1,  1, -1,  1,  1, -1, -1,  1,  1, -1, -1, -1,\n",
              "        1, -1, -1,  1,  1, -1, -1, -1, -1, -1, -1,  1,  1, -1,  1, -1, -1,\n",
              "        1,  1,  1,  1, -1,  1, -1, -1,  1, -1, -1, -1, -1, -1, -1, -1, -1,\n",
              "       -1,  1, -1,  1,  1,  1,  1, -1, -1,  1,  1,  1,  1,  1, -1,  1,  1,\n",
              "        1,  1, -1,  1, -1,  1,  1, -1, -1,  1, -1,  1, -1,  1, -1,  1,  1,\n",
              "       -1,  1, -1, -1,  1,  1,  1,  1,  1,  1, -1,  1, -1, -1, -1,  1,  1,\n",
              "       -1,  1, -1, -1, -1,  1, -1, -1, -1,  1, -1,  1, -1,  1,  1,  1,  1,\n",
              "        1, -1,  1,  1,  1,  1,  1, -1, -1, -1,  1, -1,  1,  1, -1,  1, -1,\n",
              "       -1, -1, -1, -1,  1, -1,  1, -1, -1,  1, -1,  1, -1,  1, -1,  1,  1,\n",
              "        1, -1, -1, -1,  1,  1,  1, -1, -1,  1, -1, -1,  1,  1, -1,  1,  1,\n",
              "       -1,  1,  1, -1, -1, -1, -1,  1, -1,  1,  1, -1,  1,  1, -1, -1,  1,\n",
              "       -1, -1, -1, -1, -1,  1,  1, -1, -1,  1, -1,  1,  1, -1,  1, -1,  1,\n",
              "        1,  1,  1,  1, -1,  1,  1,  1, -1, -1, -1, -1, -1, -1, -1, -1, -1,\n",
              "       -1, -1,  1, -1,  1, -1, -1, -1, -1,  1, -1, -1, -1,  1, -1, -1, -1,\n",
              "       -1, -1, -1, -1, -1, -1,  1, -1, -1,  1,  1, -1, -1,  1,  1,  1, -1,\n",
              "       -1,  1, -1, -1,  1,  1,  1, -1, -1, -1, -1,  1,  1, -1, -1, -1,  1,\n",
              "       -1,  1, -1, -1, -1,  1,  1,  1,  1,  1, -1, -1, -1, -1,  1,  1,  1,\n",
              "        1, -1,  1, -1,  1,  1,  1, -1, -1, -1, -1,  1,  1, -1, -1, -1, -1,\n",
              "       -1,  1, -1,  1,  1, -1, -1,  1, -1, -1, -1, -1, -1,  1, -1, -1, -1,\n",
              "        1])"
            ]
          },
          "metadata": {},
          "execution_count": 50
        }
      ]
    },
    {
      "cell_type": "code",
      "metadata": {
        "id": "2d0AK2ykJbUM",
        "colab": {
          "base_uri": "https://localhost:8080/"
        },
        "outputId": "9d00b1d6-61be-4a14-c155-2dd1ffc1b1cc"
      },
      "source": [
        "#Objective 6.\n",
        "#Split the data into training and test sets, putting the first seventy percent (70%) of the data in the training\n",
        "#set.\n",
        "#y_data = X[\"Adj Close_Change\"] \n",
        "#x_data = X.drop(\"Adj Close_Change\", axis = 1)\n",
        "\n",
        "\n",
        "index = int(0.7*len(X))\n",
        "X_train,X_test,y_train,y_test = train_test_split(X, y, test_size=0.30, random_state=0)\n",
        "#train_test_split(x_data, y_data, test_size = 0.3)\n",
        "X_train,X_test,y_train,y_test"
      ],
      "execution_count": 51,
      "outputs": [
        {
          "output_type": "execute_result",
          "data": {
            "text/plain": [
              "(                 Open  Adj Close  ...  Open_1_Change  Adj Close_Change\n",
              " Date                              ...                                 \n",
              " 2021-11-08  87.705994  91.184784  ...       8.900085          1.389885\n",
              " 2021-03-20  37.587563  34.346478  ...       4.324039          1.534756\n",
              " 2021-03-03  27.148203  27.272078  ...      -0.272530          1.466902\n",
              " 2021-09-20  70.093880  56.677929  ...       1.232887         -2.339428\n",
              " 2020-12-18   3.209613   3.404798  ...      -0.134114         -0.064815\n",
              " ...               ...        ...  ...            ...               ...\n",
              " 2021-09-01  39.543476  41.931602  ...      -1.918194         -5.824314\n",
              " 2021-04-23  23.987833  23.498425  ...      -1.842472          1.720896\n",
              " 2021-02-07  18.020672  24.207178  ...       0.110941         -6.068150\n",
              " 2020-11-29   3.624608   3.704312  ...       0.035181          0.017888\n",
              " 2021-04-03  29.081627  28.251848  ...       0.749311         -1.077864\n",
              " \n",
              " [274 rows x 5 columns],\n",
              "                  Open  Adj Close  ...  Open_1_Change  Adj Close_Change\n",
              " Date                              ...                                 \n",
              " 2021-03-06  24.340832  24.923477  ...      -1.441059         -1.726677\n",
              " 2021-07-20  10.180246   9.650588  ...      -0.517612         -0.769937\n",
              " 2020-12-20   3.469663   3.311469  ...       0.064285          0.213850\n",
              " 2021-10-20  56.807442  59.559841  ...       1.276108         -1.749969\n",
              " 2021-09-06  48.146778  47.042988  ...       0.942116          9.444038\n",
              " ...               ...        ...  ...            ...               ...\n",
              " 2021-07-29  12.315290  12.418383  ...       0.383076         -0.583982\n",
              " 2021-10-30  64.733238  62.415268  ...       0.350052         -1.872536\n",
              " 2020-11-04   3.332747   3.184633  ...      -0.291168         -0.173572\n",
              " 2021-11-03  67.773087  75.430420  ...       2.804817         -3.862801\n",
              " 2021-05-01  32.898544  31.890842  ...       4.967648          0.585886\n",
              " \n",
              " [118 rows x 5 columns],\n",
              " array([ 1,  1,  1, -1, -1, -1, -1, -1, -1, -1, -1,  1,  1, -1,  1, -1, -1,\n",
              "         1,  1,  1, -1,  1, -1,  1,  1, -1, -1, -1,  1,  1, -1, -1,  1,  1,\n",
              "        -1, -1, -1, -1,  1,  1,  1,  1,  1, -1, -1,  1,  1, -1, -1,  1,  1,\n",
              "        -1,  1,  1, -1, -1, -1,  1, -1, -1,  1,  1, -1, -1,  1, -1, -1, -1,\n",
              "         1, -1, -1,  1,  1, -1,  1, -1,  1, -1, -1,  1,  1, -1,  1,  1, -1,\n",
              "        -1, -1,  1, -1, -1, -1,  1, -1,  1, -1, -1,  1, -1,  1,  1, -1,  1,\n",
              "         1,  1, -1,  1, -1, -1, -1, -1,  1, -1,  1,  1,  1,  1,  1, -1, -1,\n",
              "        -1,  1, -1,  1,  1,  1, -1,  1,  1,  1,  1,  1,  1, -1,  1, -1,  1,\n",
              "        -1,  1,  1,  1, -1, -1, -1,  1,  1,  1, -1, -1, -1, -1,  1,  1, -1,\n",
              "         1, -1, -1,  1,  1, -1, -1, -1, -1, -1, -1, -1, -1,  1,  1, -1, -1,\n",
              "        -1,  1,  1, -1,  1, -1, -1, -1, -1, -1, -1, -1, -1,  1, -1, -1,  1,\n",
              "         1, -1,  1, -1,  1,  1, -1, -1, -1,  1,  1, -1, -1, -1, -1, -1,  1,\n",
              "        -1, -1, -1,  1, -1,  1,  1,  1, -1,  1,  1,  1,  1,  1, -1,  1,  1,\n",
              "         1, -1,  1,  1, -1,  1, -1,  1,  1, -1, -1,  1, -1, -1,  1,  1, -1,\n",
              "         1, -1,  1, -1,  1,  1, -1, -1, -1,  1, -1, -1, -1, -1, -1, -1,  1,\n",
              "         1,  1, -1,  1,  1, -1, -1, -1,  1, -1,  1,  1, -1,  1, -1,  1, -1,\n",
              "         1, -1]),\n",
              " array([-1, -1,  1, -1,  1, -1, -1, -1,  1,  1,  1,  1, -1,  1, -1, -1,  1,\n",
              "         1, -1, -1,  1,  1, -1, -1, -1, -1, -1, -1, -1, -1,  1, -1,  1, -1,\n",
              "         1,  1, -1, -1,  1,  1,  1,  1, -1,  1, -1,  1, -1,  1,  1, -1, -1,\n",
              "         1,  1, -1,  1,  1, -1,  1,  1,  1,  1,  1, -1,  1, -1,  1, -1,  1,\n",
              "         1, -1, -1,  1, -1,  1, -1,  1,  1,  1, -1, -1,  1, -1,  1, -1, -1,\n",
              "         1,  1, -1, -1, -1,  1, -1,  1, -1,  1,  1,  1, -1,  1,  1,  1, -1,\n",
              "         1, -1,  1, -1, -1, -1, -1, -1, -1, -1,  1, -1, -1, -1, -1,  1]))"
            ]
          },
          "metadata": {},
          "execution_count": 51
        }
      ]
    },
    {
      "cell_type": "code",
      "metadata": {
        "id": "GR5T3HIDJbUO"
      },
      "source": [
        "#Objective 7.\n",
        "#Instantiate the Logistic Regression model object, and use its \".fit(*args)\" method to fit the model to the \n",
        "#training data.\n",
        "\n",
        "logistic = LogisticRegression()\n",
        "logistic = logistic.fit(X_train,y_train)\n",
        "#Train the model and create predictions\n",
        "#model.fit(x_training_data, y_training_data)\n",
        "#predictions = model.predict(x_test_data)\n",
        "#y_pred=logreg.predict(X_test)"
      ],
      "execution_count": 52,
      "outputs": []
    },
    {
      "cell_type": "code",
      "metadata": {
        "id": "J3u7Yg4IJbUQ",
        "colab": {
          "base_uri": "https://localhost:8080/",
          "height": 204
        },
        "outputId": "5549816e-136b-4d5c-a258-af0d93ec40f2"
      },
      "source": [
        "#Objective 8.\n",
        "#Examine the model's coefficients by using its \".coef_\" method.\n",
        "\n",
        "pd.DataFrame(zip(X.columns, np.transpose(logistic.coef_)))"
      ],
      "execution_count": 53,
      "outputs": [
        {
          "output_type": "execute_result",
          "data": {
            "text/html": [
              "<div>\n",
              "<style scoped>\n",
              "    .dataframe tbody tr th:only-of-type {\n",
              "        vertical-align: middle;\n",
              "    }\n",
              "\n",
              "    .dataframe tbody tr th {\n",
              "        vertical-align: top;\n",
              "    }\n",
              "\n",
              "    .dataframe thead th {\n",
              "        text-align: right;\n",
              "    }\n",
              "</style>\n",
              "<table border=\"1\" class=\"dataframe\">\n",
              "  <thead>\n",
              "    <tr style=\"text-align: right;\">\n",
              "      <th></th>\n",
              "      <th>0</th>\n",
              "      <th>1</th>\n",
              "    </tr>\n",
              "  </thead>\n",
              "  <tbody>\n",
              "    <tr>\n",
              "      <th>0</th>\n",
              "      <td>Open</td>\n",
              "      <td>[0.30194065161249173]</td>\n",
              "    </tr>\n",
              "    <tr>\n",
              "      <th>1</th>\n",
              "      <td>Adj Close</td>\n",
              "      <td>[-0.2961571552200603]</td>\n",
              "    </tr>\n",
              "    <tr>\n",
              "      <th>2</th>\n",
              "      <td>Close_15_Rolling</td>\n",
              "      <td>[-0.004373107916167491]</td>\n",
              "    </tr>\n",
              "    <tr>\n",
              "      <th>3</th>\n",
              "      <td>Open_1_Change</td>\n",
              "      <td>[0.0008460818111522255]</td>\n",
              "    </tr>\n",
              "    <tr>\n",
              "      <th>4</th>\n",
              "      <td>Adj Close_Change</td>\n",
              "      <td>[5.289927149164344]</td>\n",
              "    </tr>\n",
              "  </tbody>\n",
              "</table>\n",
              "</div>"
            ],
            "text/plain": [
              "                  0                        1\n",
              "0              Open    [0.30194065161249173]\n",
              "1         Adj Close    [-0.2961571552200603]\n",
              "2  Close_15_Rolling  [-0.004373107916167491]\n",
              "3     Open_1_Change  [0.0008460818111522255]\n",
              "4  Adj Close_Change      [5.289927149164344]"
            ]
          },
          "metadata": {},
          "execution_count": 53
        }
      ]
    },
    {
      "cell_type": "code",
      "metadata": {
        "id": "xxeG5MpxJbUT"
      },
      "source": [
        "#Objective 9.\n",
        "#Use the model's \".predict_proba(*args)\" and \".predict(*args)\" methods to generate predictions over the test set.\n",
        "\n",
        "#probabilities = #TODO.predict_proba\n",
        "#predictions = #TODO.predict\n",
        "#predictions = logistic.predict(x_test_data)\n",
        "y_pred =logistic.predict(X_test)"
      ],
      "execution_count": 54,
      "outputs": []
    },
    {
      "cell_type": "code",
      "metadata": {
        "id": "S-iVWTrcJbUU",
        "colab": {
          "base_uri": "https://localhost:8080/"
        },
        "outputId": "8ec47429-531b-4a9e-e09c-58913fdf1668"
      },
      "source": [
        "#Objective 10.\n",
        "#Use the function \"metrics.confusion_matrix(*args)\" to create a confusion matrix comparing the predicted and true\n",
        "#classification labels over the test set.\n",
        "cnf_matrix = metrics.confusion_matrix(y_test, y_pred)\n",
        "cnf_matrix\n",
        "#TODO"
      ],
      "execution_count": 55,
      "outputs": [
        {
          "output_type": "execute_result",
          "data": {
            "text/plain": [
              "array([[59,  2],\n",
              "       [ 0, 57]])"
            ]
          },
          "metadata": {},
          "execution_count": 55
        }
      ]
    },
    {
      "cell_type": "code",
      "metadata": {
        "id": "r98eUZGPJbUV"
      },
      "source": [
        "#Objective 11.\n",
        "#Calculate the model's accuracy on the test set using its \".score(*args)\" method.\n",
        "\n",
        "#TODO"
      ],
      "execution_count": null,
      "outputs": []
    },
    {
      "cell_type": "code",
      "metadata": {
        "id": "EvEjrHaTJbUW"
      },
      "source": [
        "#Objective 12.\n",
        "#Use five-fold cross validation to cross-check the accuracy of the model over different held-out test sets.  This\n",
        "#is where you should use the function \"cross_val_score(*args)\".\n",
        "\n",
        "cross_val = #TODO"
      ],
      "execution_count": null,
      "outputs": []
    },
    {
      "cell_type": "code",
      "metadata": {
        "id": "xTXMmNoYJbUX"
      },
      "source": [
        ""
      ],
      "execution_count": null,
      "outputs": []
    }
  ]
}