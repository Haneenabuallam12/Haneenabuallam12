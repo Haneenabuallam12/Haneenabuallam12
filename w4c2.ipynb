{
  "nbformat": 4,
  "nbformat_minor": 0,
  "metadata": {
    "colab": {
      "name": "Untitled6.ipynb",
      "provenance": [],
      "collapsed_sections": [],
      "authorship_tag": "ABX9TyPoL3XbUeRqoFIlVAZVBvfM",
      "include_colab_link": true
    },
    "kernelspec": {
      "name": "python3",
      "display_name": "Python 3"
    },
    "language_info": {
      "name": "python"
    }
  },
  "cells": [
    {
      "cell_type": "markdown",
      "metadata": {
        "id": "view-in-github",
        "colab_type": "text"
      },
      "source": [
        "<a href=\"https://colab.research.google.com/github/Haneenabuallam12/Haneenabuallam12/blob/main/w4c2.ipynb\" target=\"_parent\"><img src=\"https://colab.research.google.com/assets/colab-badge.svg\" alt=\"Open In Colab\"/></a>"
      ]
    },
    {
      "cell_type": "code",
      "metadata": {
        "id": "NzF_OcxFQomq"
      },
      "source": [
        "import numpy as np\n",
        "import pandas as pd\n",
        "from matplotlib import pyplot as plt\n",
        "%matplotlib inline\n",
        "import seaborn as sns\n"
      ],
      "execution_count": 92,
      "outputs": []
    },
    {
      "cell_type": "code",
      "metadata": {
        "id": "EVi0Pf99QvYi"
      },
      "source": [
        "Dates= ['2021','2022', '2023', '2024', '2025', '2026', '2027','2028', '2029','2030', '2031','2032' ]\n",
        "Revenue = pd.Series(index=Dates, dtype='float64')\n",
        "Revenue['2021'] = 222\n",
        "#Revenue"
      ],
      "execution_count": 93,
      "outputs": []
    },
    {
      "cell_type": "code",
      "metadata": {
        "id": "mgRdJvA4Qyd8"
      },
      "source": [
        "growth_rate = 0.18\n",
        "for year in range(1, 12):\n",
        "    Revenue[year] = Revenue[year - 1] * (1 + growth_rate)\n",
        "#Revenue"
      ],
      "execution_count": 94,
      "outputs": []
    },
    {
      "cell_type": "code",
      "metadata": {
        "id": "BinXEQOBQ3YD"
      },
      "source": [
        "ebitda_margin = 0.45\n",
        "ebitda = Revenue * ebitda_margin \n",
        "#ebitda"
      ],
      "execution_count": 95,
      "outputs": []
    },
    {
      "cell_type": "code",
      "metadata": {
        "id": "nqhKSEPQQ6aa"
      },
      "source": [
        "tax_rate = 0.21\n",
        "taxes = -ebitda * tax_rate\n",
        "tax_payment = taxes.apply(lambda x: min(x, 0))\n",
        "#taxes"
      ],
      "execution_count": 96,
      "outputs": []
    },
    {
      "cell_type": "code",
      "metadata": {
        "id": "72EvRJyVQ9JU"
      },
      "source": [
        "capex_percent = 0.03\n",
        "capital_expenditures = -(Revenue * capex_percent)\n",
        "#capital_expenditures"
      ],
      "execution_count": 97,
      "outputs": []
    },
    {
      "cell_type": "code",
      "metadata": {
        "id": "PQo5NcxhQ_-o"
      },
      "source": [
        "nwc_percent = 0.06\n",
        "nwc = Revenue * nwc_percent\n",
        "change_in_nwc = nwc.shift(1) - nwc\n",
        "#to be changed to 0\n",
        "#change_in_nw"
      ],
      "execution_count": 98,
      "outputs": []
    },
    {
      "cell_type": "code",
      "metadata": {
        "id": "zbP9132KRHX4"
      },
      "source": [
        "cash_flow = ebitda + taxes + capital_expenditures + change_in_nwc\n",
        "#cash_flow"
      ],
      "execution_count": 99,
      "outputs": []
    },
    {
      "cell_type": "code",
      "metadata": {
        "id": "E1LQkOo5RJZ5"
      },
      "source": [
        "\n",
        "discount_rate = 0.06\n",
        "discount_factor= pd.Series(index=Dates, dtype='float64')\n",
        "\n",
        "for year in range(0, 12):\n",
        "    discount_factor[year]= (1 / (1 + discount_rate)) ** year\n",
        "#discount_factor"
      ],
      "execution_count": 100,
      "outputs": []
    },
    {
      "cell_type": "code",
      "metadata": {
        "id": "DB5lMl6JSsSq"
      },
      "source": [
        "#Present Value of Future Cash Flow\n",
        "pv_of_fcf = (cash_flow * discount_factor)\n",
        "#pv_of_fcf"
      ],
      "execution_count": 101,
      "outputs": []
    },
    {
      "cell_type": "code",
      "metadata": {
        "colab": {
          "base_uri": "https://localhost:8080/",
          "height": 421
        },
        "id": "_b41cmsGRO7R",
        "outputId": "49697d36-c123-4e45-e8d3-4733624fde0e"
      },
      "source": [
        "data = {'revenue': Revenue,\n",
        "        'EBITDA':ebitda, \n",
        "        'taxes':taxes, \n",
        "        'cap_ex':capital_expenditures, \n",
        "         'work_cap':change_in_nwc,\n",
        "        'cash_flow':cash_flow, \n",
        "        'discount_factor': discount_factor, \n",
        "        'present_value_fcf':pv_of_fcf }\n",
        "df = pd.DataFrame(data, index= Dates)  \n",
        "df"
      ],
      "execution_count": 102,
      "outputs": [
        {
          "output_type": "execute_result",
          "data": {
            "text/html": [
              "<div>\n",
              "<style scoped>\n",
              "    .dataframe tbody tr th:only-of-type {\n",
              "        vertical-align: middle;\n",
              "    }\n",
              "\n",
              "    .dataframe tbody tr th {\n",
              "        vertical-align: top;\n",
              "    }\n",
              "\n",
              "    .dataframe thead th {\n",
              "        text-align: right;\n",
              "    }\n",
              "</style>\n",
              "<table border=\"1\" class=\"dataframe\">\n",
              "  <thead>\n",
              "    <tr style=\"text-align: right;\">\n",
              "      <th></th>\n",
              "      <th>revenue</th>\n",
              "      <th>EBITDA</th>\n",
              "      <th>taxes</th>\n",
              "      <th>cap_ex</th>\n",
              "      <th>work_cap</th>\n",
              "      <th>cash_flow</th>\n",
              "      <th>discount_factor</th>\n",
              "      <th>present_value_fcf</th>\n",
              "    </tr>\n",
              "  </thead>\n",
              "  <tbody>\n",
              "    <tr>\n",
              "      <th>2021</th>\n",
              "      <td>222.000000</td>\n",
              "      <td>99.900000</td>\n",
              "      <td>-20.979000</td>\n",
              "      <td>-6.660000</td>\n",
              "      <td>NaN</td>\n",
              "      <td>NaN</td>\n",
              "      <td>1.000000</td>\n",
              "      <td>NaN</td>\n",
              "    </tr>\n",
              "    <tr>\n",
              "      <th>2022</th>\n",
              "      <td>261.960000</td>\n",
              "      <td>117.882000</td>\n",
              "      <td>-24.755220</td>\n",
              "      <td>-7.858800</td>\n",
              "      <td>-2.397600</td>\n",
              "      <td>82.870380</td>\n",
              "      <td>0.943396</td>\n",
              "      <td>78.179604</td>\n",
              "    </tr>\n",
              "    <tr>\n",
              "      <th>2023</th>\n",
              "      <td>309.112800</td>\n",
              "      <td>139.100760</td>\n",
              "      <td>-29.211160</td>\n",
              "      <td>-9.273384</td>\n",
              "      <td>-2.829168</td>\n",
              "      <td>97.787048</td>\n",
              "      <td>0.889996</td>\n",
              "      <td>87.030125</td>\n",
              "    </tr>\n",
              "    <tr>\n",
              "      <th>2024</th>\n",
              "      <td>364.753104</td>\n",
              "      <td>164.138897</td>\n",
              "      <td>-34.469168</td>\n",
              "      <td>-10.942593</td>\n",
              "      <td>-3.338418</td>\n",
              "      <td>115.388717</td>\n",
              "      <td>0.839619</td>\n",
              "      <td>96.882592</td>\n",
              "    </tr>\n",
              "    <tr>\n",
              "      <th>2025</th>\n",
              "      <td>430.408663</td>\n",
              "      <td>193.683898</td>\n",
              "      <td>-40.673619</td>\n",
              "      <td>-12.912260</td>\n",
              "      <td>-3.939334</td>\n",
              "      <td>136.158686</td>\n",
              "      <td>0.792094</td>\n",
              "      <td>107.850433</td>\n",
              "    </tr>\n",
              "    <tr>\n",
              "      <th>2026</th>\n",
              "      <td>507.882222</td>\n",
              "      <td>228.547000</td>\n",
              "      <td>-47.994870</td>\n",
              "      <td>-15.236467</td>\n",
              "      <td>-4.648414</td>\n",
              "      <td>160.667250</td>\n",
              "      <td>0.747258</td>\n",
              "      <td>120.059915</td>\n",
              "    </tr>\n",
              "    <tr>\n",
              "      <th>2027</th>\n",
              "      <td>599.301022</td>\n",
              "      <td>269.685460</td>\n",
              "      <td>-56.633947</td>\n",
              "      <td>-17.979031</td>\n",
              "      <td>-5.485128</td>\n",
              "      <td>189.587355</td>\n",
              "      <td>0.704961</td>\n",
              "      <td>133.651604</td>\n",
              "    </tr>\n",
              "    <tr>\n",
              "      <th>2028</th>\n",
              "      <td>707.175206</td>\n",
              "      <td>318.228843</td>\n",
              "      <td>-66.828057</td>\n",
              "      <td>-21.215256</td>\n",
              "      <td>-6.472451</td>\n",
              "      <td>223.713078</td>\n",
              "      <td>0.665057</td>\n",
              "      <td>148.781974</td>\n",
              "    </tr>\n",
              "    <tr>\n",
              "      <th>2029</th>\n",
              "      <td>834.466743</td>\n",
              "      <td>375.510034</td>\n",
              "      <td>-78.857107</td>\n",
              "      <td>-25.034002</td>\n",
              "      <td>-7.637492</td>\n",
              "      <td>263.981433</td>\n",
              "      <td>0.627412</td>\n",
              "      <td>165.625217</td>\n",
              "    </tr>\n",
              "    <tr>\n",
              "      <th>2030</th>\n",
              "      <td>984.670757</td>\n",
              "      <td>443.101841</td>\n",
              "      <td>-93.051387</td>\n",
              "      <td>-29.540123</td>\n",
              "      <td>-9.012241</td>\n",
              "      <td>311.498090</td>\n",
              "      <td>0.591898</td>\n",
              "      <td>184.375241</td>\n",
              "    </tr>\n",
              "    <tr>\n",
              "      <th>2031</th>\n",
              "      <td>1161.911493</td>\n",
              "      <td>522.860172</td>\n",
              "      <td>-109.800636</td>\n",
              "      <td>-34.857345</td>\n",
              "      <td>-10.634444</td>\n",
              "      <td>367.567747</td>\n",
              "      <td>0.558395</td>\n",
              "      <td>205.247910</td>\n",
              "    </tr>\n",
              "    <tr>\n",
              "      <th>2032</th>\n",
              "      <td>1371.055562</td>\n",
              "      <td>616.975003</td>\n",
              "      <td>-129.564751</td>\n",
              "      <td>-41.131667</td>\n",
              "      <td>-12.548644</td>\n",
              "      <td>433.729941</td>\n",
              "      <td>0.526788</td>\n",
              "      <td>228.483522</td>\n",
              "    </tr>\n",
              "  </tbody>\n",
              "</table>\n",
              "</div>"
            ],
            "text/plain": [
              "          revenue      EBITDA  ...  discount_factor  present_value_fcf\n",
              "2021   222.000000   99.900000  ...         1.000000                NaN\n",
              "2022   261.960000  117.882000  ...         0.943396          78.179604\n",
              "2023   309.112800  139.100760  ...         0.889996          87.030125\n",
              "2024   364.753104  164.138897  ...         0.839619          96.882592\n",
              "2025   430.408663  193.683898  ...         0.792094         107.850433\n",
              "2026   507.882222  228.547000  ...         0.747258         120.059915\n",
              "2027   599.301022  269.685460  ...         0.704961         133.651604\n",
              "2028   707.175206  318.228843  ...         0.665057         148.781974\n",
              "2029   834.466743  375.510034  ...         0.627412         165.625217\n",
              "2030   984.670757  443.101841  ...         0.591898         184.375241\n",
              "2031  1161.911493  522.860172  ...         0.558395         205.247910\n",
              "2032  1371.055562  616.975003  ...         0.526788         228.483522\n",
              "\n",
              "[12 rows x 8 columns]"
            ]
          },
          "metadata": {},
          "execution_count": 102
        }
      ]
    },
    {
      "cell_type": "code",
      "metadata": {
        "colab": {
          "base_uri": "https://localhost:8080/"
        },
        "id": "C1lTcyINdT9d",
        "outputId": "83709f54-6071-497b-a892-f1df9b09bcc6"
      },
      "source": [
        "#total present value of Future Cash Flows\n",
        "t_pv_of_fcf = pv_of_fcf.sum()\n",
        "t_pv_of_fcf"
      ],
      "execution_count": 103,
      "outputs": [
        {
          "output_type": "execute_result",
          "data": {
            "text/plain": [
              "1556.1681370653096"
            ]
          },
          "metadata": {},
          "execution_count": 103
        }
      ]
    },
    {
      "cell_type": "code",
      "metadata": {
        "colab": {
          "base_uri": "https://localhost:8080/"
        },
        "id": "jRE0jm4_gxZQ",
        "outputId": "38877a78-3ac2-46ef-dded-1aa038bb5806"
      },
      "source": [
        "#terminal_value \n",
        "ebitda_exit_multiple = 32.70\n",
        "terminal_value = (ebitda_exit_multiple*ebitda[11])\n",
        "terminal_value"
      ],
      "execution_count": 104,
      "outputs": [
        {
          "output_type": "execute_result",
          "data": {
            "text/plain": [
              "20175.082590019254"
            ]
          },
          "metadata": {},
          "execution_count": 104
        }
      ]
    },
    {
      "cell_type": "code",
      "metadata": {
        "colab": {
          "base_uri": "https://localhost:8080/"
        },
        "id": "jDXSwxx9g10d",
        "outputId": "2f0d3c53-0809-4a5c-a4b7-b985b13538c1"
      },
      "source": [
        "#present_assets_value\n",
        "present_assets_value = (t_pv_of_fcf + terminal_value)\n",
        "present_assets_value"
      ],
      "execution_count": 105,
      "outputs": [
        {
          "output_type": "execute_result",
          "data": {
            "text/plain": [
              "21731.250727084564"
            ]
          },
          "metadata": {},
          "execution_count": 105
        }
      ]
    },
    {
      "cell_type": "code",
      "metadata": {
        "colab": {
          "base_uri": "https://localhost:8080/"
        },
        "id": "0enE5En2g5ZK",
        "outputId": "a95acc7f-4ca8-431a-bcb1-b8d7824f7ebf"
      },
      "source": [
        "print(f\"\"\"Our projected Present Value of Projected Future Cash Flows are:{t_pv_of_fcf:.2f}.\\n\n",
        "We are providing revenue guidance in 2032 to be: {Revenue['2032']:.2f}.\n",
        "      \\nWith an estimated EBITDA around:{ebitda['2032']:.2f}.\"\"\")\n"
      ],
      "execution_count": 106,
      "outputs": [
        {
          "output_type": "stream",
          "name": "stdout",
          "text": [
            "Our projected Present Value of Projected Future Cash Flows are:1556.17.\n",
            "\n",
            "We are providing revenue guidance in 2032 to be: 1371.06.\n",
            "      \n",
            "With an estimated EBITDA around:616.98.\n"
          ]
        }
      ]
    },
    {
      "cell_type": "code",
      "metadata": {
        "colab": {
          "base_uri": "https://localhost:8080/"
        },
        "id": "HkJmTSutg--6",
        "outputId": "cd50fe1e-7927-49f7-b5ac-b782295c59b7"
      },
      "source": [
        "print(f\"\"\"The terminal value at this time given a multiple of {ebitda_exit_multiple:.2f} \n",
        "\\nand the above EBITDA for 2030, would equal: {terminal_value:.2f}.\"\"\")"
      ],
      "execution_count": 107,
      "outputs": [
        {
          "output_type": "stream",
          "name": "stdout",
          "text": [
            "The terminal value at this time given a multiple of 32.70 \n",
            "\n",
            "and the above EBITDA for 2030, would equal: 20175.08.\n"
          ]
        }
      ]
    },
    {
      "cell_type": "code",
      "metadata": {
        "colab": {
          "base_uri": "https://localhost:8080/",
          "height": 421
        },
        "id": "L-ibx6zbhF8c",
        "outputId": "0d2402a6-3695-48ea-f658-78ac397fcd2d"
      },
      "source": [
        "plt.figure(figsize=(10,6))\n",
        "\n",
        "# Add title\n",
        "plt.title(\"Cash Flow  From 2021 to 2032\")\n",
        "\n",
        "# Bar chart showing average arrival delay for Spirit Airlines flights by month\n",
        "sns.barplot(x=df.index, y=df['cash_flow'])\n",
        "\n",
        "# Add label for vertical axis\n",
        "plt.xlabel(\"Years\")\n",
        "plt.ylabel(\"Cash Flow\")"
      ],
      "execution_count": 108,
      "outputs": [
        {
          "output_type": "execute_result",
          "data": {
            "text/plain": [
              "Text(0, 0.5, 'Cash Flow')"
            ]
          },
          "metadata": {},
          "execution_count": 108
        },
        {
          "output_type": "display_data",
          "data": {
            "image/png": "[encoded data removed]",
            "text/plain": [
              "<Figure size 720x432 with 1 Axes>"
            ]
          },
          "metadata": {
            "needs_background": "light"
          }
        }
      ]
    }
  ]
}