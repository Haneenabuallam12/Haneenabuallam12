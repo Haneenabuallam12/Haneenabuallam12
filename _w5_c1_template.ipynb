{
  "nbformat": 4,
  "nbformat_minor": 0,
  "metadata": {
    "kernelspec": {
      "display_name": "Python 3",
      "language": "python",
      "name": "python3"
    },
    "language_info": {
      "codemirror_mode": {
        "name": "ipython",
        "version": 3
      },
      "file_extension": ".py",
      "mimetype": "text/x-python",
      "name": "python",
      "nbconvert_exporter": "python",
      "pygments_lexer": "ipython3",
      "version": "3.8.5"
    },
    "colab": {
      "name": "1636325356__assignment_w5_c1_template.ipynb",
      "provenance": [],
      "include_colab_link": true
    }
  },
  "cells": [
    {
      "cell_type": "markdown",
      "metadata": {
        "id": "view-in-github",
        "colab_type": "text"
      },
      "source": [
        "<a href=\"https://colab.research.google.com/github/Haneenabuallam12/Haneenabuallam12/blob/main/_w5_c1_template.ipynb\" target=\"_parent\"><img src=\"https://colab.research.google.com/assets/colab-badge.svg\" alt=\"Open In Colab\"/></a>"
      ]
    },
    {
      "cell_type": "markdown",
      "metadata": {
        "id": "4LS_k-1YJbT-"
      },
      "source": [
        "Week 5, Assignment C1:\n",
        "\n",
        "Logistic Regression with Yahoo! Finance API in Python\n",
        "\n",
        "In this notebook, we will study Logistic Regression using the Yahoo! Finance API in Python.\n",
        "\n",
        "Please complete the lines bellow where you see \"#TODO\"."
      ]
    },
    {
      "cell_type": "code",
      "metadata": {
        "colab": {
          "base_uri": "https://localhost:8080/"
        },
        "id": "umCDy4ZePNEd",
        "outputId": "52f12f39-2c22-4772-dede-cca4c3639a31"
      },
      "source": [
        "!pip install yfinance"
      ],
      "execution_count": 2,
      "outputs": [
        {
          "output_type": "stream",
          "name": "stdout",
          "text": [
            "Collecting yfinance\n",
            "  Downloading yfinance-0.1.64.tar.gz (26 kB)\n",
            "Requirement already satisfied: pandas>=0.24 in /usr/local/lib/python3.7/dist-packages (from yfinance) (1.1.5)\n",
            "Requirement already satisfied: numpy>=1.15 in /usr/local/lib/python3.7/dist-packages (from yfinance) (1.19.5)\n",
            "Requirement already satisfied: requests>=2.20 in /usr/local/lib/python3.7/dist-packages (from yfinance) (2.23.0)\n",
            "Requirement already satisfied: multitasking>=0.0.7 in /usr/local/lib/python3.7/dist-packages (from yfinance) (0.0.9)\n",
            "Collecting lxml>=4.5.1\n",
            "  Downloading lxml-4.6.4-cp37-cp37m-manylinux_2_17_x86_64.manylinux2014_x86_64.manylinux_2_24_x86_64.whl (6.3 MB)\n",
            "\u001b[K     |████████████████████████████████| 6.3 MB 7.9 MB/s \n",
            "\u001b[?25hRequirement already satisfied: pytz>=2017.2 in /usr/local/lib/python3.7/dist-packages (from pandas>=0.24->yfinance) (2018.9)\n",
            "Requirement already satisfied: python-dateutil>=2.7.3 in /usr/local/lib/python3.7/dist-packages (from pandas>=0.24->yfinance) (2.8.2)\n",
            "Requirement already satisfied: six>=1.5 in /usr/local/lib/python3.7/dist-packages (from python-dateutil>=2.7.3->pandas>=0.24->yfinance) (1.15.0)\n",
            "Requirement already satisfied: chardet<4,>=3.0.2 in /usr/local/lib/python3.7/dist-packages (from requests>=2.20->yfinance) (3.0.4)\n",
            "Requirement already satisfied: certifi>=2017.4.17 in /usr/local/lib/python3.7/dist-packages (from requests>=2.20->yfinance) (2021.10.8)\n",
            "Requirement already satisfied: idna<3,>=2.5 in /usr/local/lib/python3.7/dist-packages (from requests>=2.20->yfinance) (2.10)\n",
            "Requirement already satisfied: urllib3!=1.25.0,!=1.25.1,<1.26,>=1.21.1 in /usr/local/lib/python3.7/dist-packages (from requests>=2.20->yfinance) (1.24.3)\n",
            "Building wheels for collected packages: yfinance\n",
            "  Building wheel for yfinance (setup.py) ... \u001b[?25l\u001b[?25hdone\n",
            "  Created wheel for yfinance: filename=yfinance-0.1.64-py2.py3-none-any.whl size=24109 sha256=2ef4d3065dd99d41787d5af56db773c282cd612fd0ba079710061c10005bb376\n",
            "  Stored in directory: /root/.cache/pip/wheels/86/fe/9b/a4d3d78796b699e37065e5b6c27b75cff448ddb8b24943c288\n",
            "Successfully built yfinance\n",
            "Installing collected packages: lxml, yfinance\n",
            "  Attempting uninstall: lxml\n",
            "    Found existing installation: lxml 4.2.6\n",
            "    Uninstalling lxml-4.2.6:\n",
            "      Successfully uninstalled lxml-4.2.6\n",
            "Successfully installed lxml-4.6.4 yfinance-0.1.64\n"
          ]
        }
      ]
    },
    {
      "cell_type": "code",
      "metadata": {
        "colab": {
          "base_uri": "https://localhost:8080/"
        },
        "id": "CExpracpK-OX",
        "outputId": "52390946-1729-4118-b7ea-c522a4682cf6"
      },
      "source": [
        "!Pip install sklearn"
      ],
      "execution_count": 3,
      "outputs": [
        {
          "output_type": "stream",
          "name": "stdout",
          "text": [
            "/bin/bash: Pip: command not found\n"
          ]
        }
      ]
    },
    {
      "cell_type": "code",
      "metadata": {
        "id": "qIzk7LEDJbUE"
      },
      "source": [
        "#Objective 1.\n",
        "#Use this cell to import the Numpy (as np), Pandas (as pd), and YFinance (as yf) packages.\n",
        "import datetime as dt\n",
        "import numpy as np \n",
        "import pandas as pd\n",
        "import yfinance as yf\n",
        "from sklearn.preprocessing import StandardScaler\n",
        "\n",
        "#Our work will also require some components of the Sklearn and Pandas_Datareader packages as imported below:\n",
        "\n",
        "from sklearn.linear_model import LogisticRegression\n",
        "from sklearn import metrics\n",
        "from sklearn.model_selection import train_test_split\n",
        "\n",
        "from sklearn.model_selection import cross_val_score\n",
        "from pandas_datareader import data as pdr\n",
        "yf.pdr_override()"
      ],
      "execution_count": 4,
      "outputs": []
    },
    {
      "cell_type": "code",
      "metadata": {
        "id": "A1r3q9JGJbUH"
      },
      "source": [
        "#Objective 2.\n",
        "#Select a stock symbol for a stock whose historical data is available on the Yahoo! Finance website.  Store the\n",
        "#string of your chosen symbol to the new variable \"stock_symbol\".\n",
        "start = dt.datetime(2020,9,22)\n",
        "end = dt.datetime.now()\n",
        "\n",
        "stock_symbol = ['AVAX-USD']"
      ],
      "execution_count": 5,
      "outputs": []
    },
    {
      "cell_type": "code",
      "metadata": {
        "colab": {
          "base_uri": "https://localhost:8080/",
          "height": 467
        },
        "id": "A-EckJAhJbUI",
        "outputId": "4b171aa2-2f55-44b3-ccf0-e4e06ef26d2b"
      },
      "source": [
        "#Objective 3.\n",
        "#Use the function \"pdr.get_data_yahoo(stock_symbol, start_date, end_date)\" to generate a Pandas dataframe of\n",
        "#historical stock data for your chosen stock.  Retain only the first four columns of the dataframe.  Be sure to \n",
        "#drop any rows containing NaN's, and take a peek at the resulting dataframe to make sure everything looks good.\n",
        "\n",
        "deletd_column =[]\n",
        "df = pdr.get_data_yahoo(stock_symbol, start, end).dropna()\n",
        "df\n",
        "scaler = StandardScaler()\n",
        "\n",
        "scaled_df = pd.DataFrame(\n",
        "    scaler.fit_transform(df), \n",
        "    columns=df.columns,\n",
        "    index=df.index)\n",
        "\n",
        "scaled_df= scaled_df.drop(\"Close\",axis=\"columns\")\n",
        "\n",
        "scaled_df"
      ],
      "execution_count": 6,
      "outputs": [
        {
          "output_type": "stream",
          "name": "stdout",
          "text": [
            "\r[*********************100%***********************]  1 of 1 completed\n"
          ]
        },
        {
          "output_type": "execute_result",
          "data": {
            "text/html": [
              "<div>\n",
              "<style scoped>\n",
              "    .dataframe tbody tr th:only-of-type {\n",
              "        vertical-align: middle;\n",
              "    }\n",
              "\n",
              "    .dataframe tbody tr th {\n",
              "        vertical-align: top;\n",
              "    }\n",
              "\n",
              "    .dataframe thead th {\n",
              "        text-align: right;\n",
              "    }\n",
              "</style>\n",
              "<table border=\"1\" class=\"dataframe\">\n",
              "  <thead>\n",
              "    <tr style=\"text-align: right;\">\n",
              "      <th></th>\n",
              "      <th>Open</th>\n",
              "      <th>High</th>\n",
              "      <th>Low</th>\n",
              "      <th>Adj Close</th>\n",
              "      <th>Volume</th>\n",
              "    </tr>\n",
              "    <tr>\n",
              "      <th>Date</th>\n",
              "      <th></th>\n",
              "      <th></th>\n",
              "      <th></th>\n",
              "      <th></th>\n",
              "      <th></th>\n",
              "    </tr>\n",
              "  </thead>\n",
              "  <tbody>\n",
              "    <tr>\n",
              "      <th>2020-09-22</th>\n",
              "      <td>-0.948016</td>\n",
              "      <td>-0.682762</td>\n",
              "      <td>-0.966446</td>\n",
              "      <td>-0.936332</td>\n",
              "      <td>-0.181809</td>\n",
              "    </tr>\n",
              "    <tr>\n",
              "      <th>2020-09-23</th>\n",
              "      <td>-0.936274</td>\n",
              "      <td>-0.954487</td>\n",
              "      <td>-1.000378</td>\n",
              "      <td>-1.016810</td>\n",
              "      <td>-0.483817</td>\n",
              "    </tr>\n",
              "    <tr>\n",
              "      <th>2020-09-24</th>\n",
              "      <td>-1.017556</td>\n",
              "      <td>-0.976769</td>\n",
              "      <td>-0.999961</td>\n",
              "      <td>-0.967167</td>\n",
              "      <td>-0.534523</td>\n",
              "    </tr>\n",
              "    <tr>\n",
              "      <th>2020-09-25</th>\n",
              "      <td>-0.967087</td>\n",
              "      <td>-0.970847</td>\n",
              "      <td>-0.960935</td>\n",
              "      <td>-0.960913</td>\n",
              "      <td>-0.609622</td>\n",
              "    </tr>\n",
              "    <tr>\n",
              "      <th>2020-09-26</th>\n",
              "      <td>-0.960422</td>\n",
              "      <td>-0.977903</td>\n",
              "      <td>-0.953540</td>\n",
              "      <td>-0.968914</td>\n",
              "      <td>-0.663659</td>\n",
              "    </tr>\n",
              "    <tr>\n",
              "      <th>...</th>\n",
              "      <td>...</td>\n",
              "      <td>...</td>\n",
              "      <td>...</td>\n",
              "      <td>...</td>\n",
              "      <td>...</td>\n",
              "    </tr>\n",
              "    <tr>\n",
              "      <th>2021-11-06</th>\n",
              "      <td>2.342108</td>\n",
              "      <td>2.301463</td>\n",
              "      <td>2.453179</td>\n",
              "      <td>2.514774</td>\n",
              "      <td>0.186414</td>\n",
              "    </tr>\n",
              "    <tr>\n",
              "      <th>2021-11-07</th>\n",
              "      <td>2.556161</td>\n",
              "      <td>2.752222</td>\n",
              "      <td>2.734153</td>\n",
              "      <td>2.938593</td>\n",
              "      <td>1.728221</td>\n",
              "    </tr>\n",
              "    <tr>\n",
              "      <th>2021-11-08</th>\n",
              "      <td>2.978646</td>\n",
              "      <td>3.110671</td>\n",
              "      <td>3.013578</td>\n",
              "      <td>3.102073</td>\n",
              "      <td>2.898804</td>\n",
              "    </tr>\n",
              "    <tr>\n",
              "      <th>2021-11-09</th>\n",
              "      <td>3.138511</td>\n",
              "      <td>2.871991</td>\n",
              "      <td>3.181254</td>\n",
              "      <td>2.973806</td>\n",
              "      <td>0.728014</td>\n",
              "    </tr>\n",
              "    <tr>\n",
              "      <th>2021-11-10</th>\n",
              "      <td>3.014415</td>\n",
              "      <td>2.981886</td>\n",
              "      <td>3.228143</td>\n",
              "      <td>3.021676</td>\n",
              "      <td>1.191794</td>\n",
              "    </tr>\n",
              "  </tbody>\n",
              "</table>\n",
              "<p>409 rows × 5 columns</p>\n",
              "</div>"
            ],
            "text/plain": [
              "                Open      High       Low  Adj Close    Volume\n",
              "Date                                                         \n",
              "2020-09-22 -0.948016 -0.682762 -0.966446  -0.936332 -0.181809\n",
              "2020-09-23 -0.936274 -0.954487 -1.000378  -1.016810 -0.483817\n",
              "2020-09-24 -1.017556 -0.976769 -0.999961  -0.967167 -0.534523\n",
              "2020-09-25 -0.967087 -0.970847 -0.960935  -0.960913 -0.609622\n",
              "2020-09-26 -0.960422 -0.977903 -0.953540  -0.968914 -0.663659\n",
              "...              ...       ...       ...        ...       ...\n",
              "2021-11-06  2.342108  2.301463  2.453179   2.514774  0.186414\n",
              "2021-11-07  2.556161  2.752222  2.734153   2.938593  1.728221\n",
              "2021-11-08  2.978646  3.110671  3.013578   3.102073  2.898804\n",
              "2021-11-09  3.138511  2.871991  3.181254   2.973806  0.728014\n",
              "2021-11-10  3.014415  2.981886  3.228143   3.021676  1.191794\n",
              "\n",
              "[409 rows x 5 columns]"
            ]
          },
          "metadata": {},
          "execution_count": 6
        }
      ]
    },
    {
      "cell_type": "code",
      "metadata": {
        "id": "-9rvMjBSJbUJ",
        "colab": {
          "base_uri": "https://localhost:8080/",
          "height": 450
        },
        "outputId": "d6152372-bfc5-4ddd-ab9b-1b6d23a6235a"
      },
      "source": [
        "#Objective 4.\n",
        "#Use the historical data to define some predictor variables.  Add these variables to the dataframe.  Include, at a\n",
        "#minimum, (Predictor.I) the rolling average closing price over the past fifteen (15) days and (Predictor.II) the\n",
        "#change in opening price over the past one (1) day.  Be sure to again drop any rows containing NaN's, and take a\n",
        "#peek at the resulting dataframe to make sure everything looks good.  Store the dataframe as the new variable \"X\".\n",
        "\n",
        "scaled_df['Close_15_Rolling'] = scaled_df['Adj Close'].rolling(16).mean() #start from zero ?\n",
        "\n",
        "scaled_df['Open_1_Change'] = scaled_df['Open'].diff()\n",
        "\n",
        "scaled_df['Adj Close_Change'] = scaled_df['Adj Close'].diff(-1)\n",
        "\n",
        "scaled_df['dif_high_low']= scaled_df['High']-scaled_df['Low']\n",
        "\n",
        "scaled_df['Volume_Change'] = scaled_df['Volume'].diff()\n",
        "\n",
        "\n",
        "\n",
        "scaled_df=scaled_df.dropna()\n",
        "X=scaled_df\n",
        "X"
      ],
      "execution_count": 7,
      "outputs": [
        {
          "output_type": "execute_result",
          "data": {
            "text/html": [
              "<div>\n",
              "<style scoped>\n",
              "    .dataframe tbody tr th:only-of-type {\n",
              "        vertical-align: middle;\n",
              "    }\n",
              "\n",
              "    .dataframe tbody tr th {\n",
              "        vertical-align: top;\n",
              "    }\n",
              "\n",
              "    .dataframe thead th {\n",
              "        text-align: right;\n",
              "    }\n",
              "</style>\n",
              "<table border=\"1\" class=\"dataframe\">\n",
              "  <thead>\n",
              "    <tr style=\"text-align: right;\">\n",
              "      <th></th>\n",
              "      <th>Open</th>\n",
              "      <th>High</th>\n",
              "      <th>Low</th>\n",
              "      <th>Adj Close</th>\n",
              "      <th>Volume</th>\n",
              "      <th>Close_15_Rolling</th>\n",
              "      <th>Open_1_Change</th>\n",
              "      <th>Adj Close_Change</th>\n",
              "      <th>dif_high_low</th>\n",
              "      <th>Volume_Change</th>\n",
              "    </tr>\n",
              "    <tr>\n",
              "      <th>Date</th>\n",
              "      <th></th>\n",
              "      <th></th>\n",
              "      <th></th>\n",
              "      <th></th>\n",
              "      <th></th>\n",
              "      <th></th>\n",
              "      <th></th>\n",
              "      <th></th>\n",
              "      <th></th>\n",
              "      <th></th>\n",
              "    </tr>\n",
              "  </thead>\n",
              "  <tbody>\n",
              "    <tr>\n",
              "      <th>2020-10-11</th>\n",
              "      <td>-0.993792</td>\n",
              "      <td>-1.007056</td>\n",
              "      <td>-0.974173</td>\n",
              "      <td>-0.989837</td>\n",
              "      <td>-0.693197</td>\n",
              "      <td>-0.985261</td>\n",
              "      <td>-0.010421</td>\n",
              "      <td>-0.002546</td>\n",
              "      <td>-0.032883</td>\n",
              "      <td>-0.005702</td>\n",
              "    </tr>\n",
              "    <tr>\n",
              "      <th>2020-10-14</th>\n",
              "      <td>-0.971886</td>\n",
              "      <td>-0.992541</td>\n",
              "      <td>-0.971588</td>\n",
              "      <td>-0.987291</td>\n",
              "      <td>-0.695878</td>\n",
              "      <td>-0.988446</td>\n",
              "      <td>0.021905</td>\n",
              "      <td>0.001067</td>\n",
              "      <td>-0.020953</td>\n",
              "      <td>-0.002681</td>\n",
              "    </tr>\n",
              "    <tr>\n",
              "      <th>2020-10-15</th>\n",
              "      <td>-0.987597</td>\n",
              "      <td>-1.004612</td>\n",
              "      <td>-0.971901</td>\n",
              "      <td>-0.988358</td>\n",
              "      <td>-0.701433</td>\n",
              "      <td>-0.986668</td>\n",
              "      <td>-0.015711</td>\n",
              "      <td>0.004082</td>\n",
              "      <td>-0.032711</td>\n",
              "      <td>-0.005556</td>\n",
              "    </tr>\n",
              "    <tr>\n",
              "      <th>2020-10-16</th>\n",
              "      <td>-0.988787</td>\n",
              "      <td>-1.007193</td>\n",
              "      <td>-0.978365</td>\n",
              "      <td>-0.992440</td>\n",
              "      <td>-0.696273</td>\n",
              "      <td>-0.988247</td>\n",
              "      <td>-0.001190</td>\n",
              "      <td>-0.007308</td>\n",
              "      <td>-0.028829</td>\n",
              "      <td>0.005160</td>\n",
              "    </tr>\n",
              "    <tr>\n",
              "      <th>2020-10-17</th>\n",
              "      <td>-0.993027</td>\n",
              "      <td>-1.005390</td>\n",
              "      <td>-0.973880</td>\n",
              "      <td>-0.985132</td>\n",
              "      <td>-0.703070</td>\n",
              "      <td>-0.989761</td>\n",
              "      <td>-0.004240</td>\n",
              "      <td>0.003756</td>\n",
              "      <td>-0.031510</td>\n",
              "      <td>-0.006797</td>\n",
              "    </tr>\n",
              "    <tr>\n",
              "      <th>...</th>\n",
              "      <td>...</td>\n",
              "      <td>...</td>\n",
              "      <td>...</td>\n",
              "      <td>...</td>\n",
              "      <td>...</td>\n",
              "      <td>...</td>\n",
              "      <td>...</td>\n",
              "      <td>...</td>\n",
              "      <td>...</td>\n",
              "      <td>...</td>\n",
              "    </tr>\n",
              "    <tr>\n",
              "      <th>2021-11-05</th>\n",
              "      <td>2.567634</td>\n",
              "      <td>2.407526</td>\n",
              "      <td>2.450127</td>\n",
              "      <td>2.311776</td>\n",
              "      <td>0.382505</td>\n",
              "      <td>1.973393</td>\n",
              "      <td>0.164718</td>\n",
              "      <td>-0.202999</td>\n",
              "      <td>-0.042600</td>\n",
              "      <td>-1.009675</td>\n",
              "    </tr>\n",
              "    <tr>\n",
              "      <th>2021-11-06</th>\n",
              "      <td>2.342108</td>\n",
              "      <td>2.301463</td>\n",
              "      <td>2.453179</td>\n",
              "      <td>2.514774</td>\n",
              "      <td>0.186414</td>\n",
              "      <td>2.024418</td>\n",
              "      <td>-0.225526</td>\n",
              "      <td>-0.423819</td>\n",
              "      <td>-0.151716</td>\n",
              "      <td>-0.196092</td>\n",
              "    </tr>\n",
              "    <tr>\n",
              "      <th>2021-11-07</th>\n",
              "      <td>2.556161</td>\n",
              "      <td>2.752222</td>\n",
              "      <td>2.734153</td>\n",
              "      <td>2.938593</td>\n",
              "      <td>1.728221</td>\n",
              "      <td>2.089757</td>\n",
              "      <td>0.214053</td>\n",
              "      <td>-0.163479</td>\n",
              "      <td>0.018069</td>\n",
              "      <td>1.541807</td>\n",
              "    </tr>\n",
              "    <tr>\n",
              "      <th>2021-11-08</th>\n",
              "      <td>2.978646</td>\n",
              "      <td>3.110671</td>\n",
              "      <td>3.013578</td>\n",
              "      <td>3.102073</td>\n",
              "      <td>2.898804</td>\n",
              "      <td>2.165303</td>\n",
              "      <td>0.422485</td>\n",
              "      <td>0.128266</td>\n",
              "      <td>0.097094</td>\n",
              "      <td>1.170584</td>\n",
              "    </tr>\n",
              "    <tr>\n",
              "      <th>2021-11-09</th>\n",
              "      <td>3.138511</td>\n",
              "      <td>2.871991</td>\n",
              "      <td>3.181254</td>\n",
              "      <td>2.973806</td>\n",
              "      <td>0.728014</td>\n",
              "      <td>2.235594</td>\n",
              "      <td>0.159865</td>\n",
              "      <td>-0.047870</td>\n",
              "      <td>-0.309262</td>\n",
              "      <td>-2.170790</td>\n",
              "    </tr>\n",
              "  </tbody>\n",
              "</table>\n",
              "<p>393 rows × 10 columns</p>\n",
              "</div>"
            ],
            "text/plain": [
              "                Open      High  ...  dif_high_low  Volume_Change\n",
              "Date                            ...                             \n",
              "2020-10-11 -0.993792 -1.007056  ...     -0.032883      -0.005702\n",
              "2020-10-14 -0.971886 -0.992541  ...     -0.020953      -0.002681\n",
              "2020-10-15 -0.987597 -1.004612  ...     -0.032711      -0.005556\n",
              "2020-10-16 -0.988787 -1.007193  ...     -0.028829       0.005160\n",
              "2020-10-17 -0.993027 -1.005390  ...     -0.031510      -0.006797\n",
              "...              ...       ...  ...           ...            ...\n",
              "2021-11-05  2.567634  2.407526  ...     -0.042600      -1.009675\n",
              "2021-11-06  2.342108  2.301463  ...     -0.151716      -0.196092\n",
              "2021-11-07  2.556161  2.752222  ...      0.018069       1.541807\n",
              "2021-11-08  2.978646  3.110671  ...      0.097094       1.170584\n",
              "2021-11-09  3.138511  2.871991  ...     -0.309262      -2.170790\n",
              "\n",
              "[393 rows x 10 columns]"
            ]
          },
          "metadata": {},
          "execution_count": 7
        }
      ]
    },
    {
      "cell_type": "code",
      "metadata": {
        "id": "CnXFqtPGJbUK",
        "colab": {
          "base_uri": "https://localhost:8080/",
          "height": 450
        },
        "outputId": "444498b7-ea20-4685-d2cb-becd01cb689b"
      },
      "source": [
        "#Objective 5.\n",
        "#Define the target or dependent variable to be one (1) if the change in closing price over the past one (1) day is\n",
        "#nonnegative and negative one (-1) if the change in closing price over the past one (1) day is negative.  This\n",
        "#variable's values should be forward-looking (i.e., you should subtract today's price from tomorrow's price rather\n",
        "#than subtracting yesterday's price from today's price).  Store the resulting values as the new variable \"y\".  You\n",
        "#may find the \"np.where(*args)\" function to be useful.  Look it up in Numpy documentation for support.\n",
        "\n",
        "y = X[\"Adj Close_Change\"]\n",
        "y = np.where(y<0,-1,1)\n",
        "y.shape\n",
        "X.shape\n",
        "X=X.drop(\"Adj Close_Change\",axis=\"columns\")\n",
        "X"
      ],
      "execution_count": 8,
      "outputs": [
        {
          "output_type": "execute_result",
          "data": {
            "text/html": [
              "<div>\n",
              "<style scoped>\n",
              "    .dataframe tbody tr th:only-of-type {\n",
              "        vertical-align: middle;\n",
              "    }\n",
              "\n",
              "    .dataframe tbody tr th {\n",
              "        vertical-align: top;\n",
              "    }\n",
              "\n",
              "    .dataframe thead th {\n",
              "        text-align: right;\n",
              "    }\n",
              "</style>\n",
              "<table border=\"1\" class=\"dataframe\">\n",
              "  <thead>\n",
              "    <tr style=\"text-align: right;\">\n",
              "      <th></th>\n",
              "      <th>Open</th>\n",
              "      <th>High</th>\n",
              "      <th>Low</th>\n",
              "      <th>Adj Close</th>\n",
              "      <th>Volume</th>\n",
              "      <th>Close_15_Rolling</th>\n",
              "      <th>Open_1_Change</th>\n",
              "      <th>dif_high_low</th>\n",
              "      <th>Volume_Change</th>\n",
              "    </tr>\n",
              "    <tr>\n",
              "      <th>Date</th>\n",
              "      <th></th>\n",
              "      <th></th>\n",
              "      <th></th>\n",
              "      <th></th>\n",
              "      <th></th>\n",
              "      <th></th>\n",
              "      <th></th>\n",
              "      <th></th>\n",
              "      <th></th>\n",
              "    </tr>\n",
              "  </thead>\n",
              "  <tbody>\n",
              "    <tr>\n",
              "      <th>2020-10-11</th>\n",
              "      <td>-0.993792</td>\n",
              "      <td>-1.007056</td>\n",
              "      <td>-0.974173</td>\n",
              "      <td>-0.989837</td>\n",
              "      <td>-0.693197</td>\n",
              "      <td>-0.985261</td>\n",
              "      <td>-0.010421</td>\n",
              "      <td>-0.032883</td>\n",
              "      <td>-0.005702</td>\n",
              "    </tr>\n",
              "    <tr>\n",
              "      <th>2020-10-14</th>\n",
              "      <td>-0.971886</td>\n",
              "      <td>-0.992541</td>\n",
              "      <td>-0.971588</td>\n",
              "      <td>-0.987291</td>\n",
              "      <td>-0.695878</td>\n",
              "      <td>-0.988446</td>\n",
              "      <td>0.021905</td>\n",
              "      <td>-0.020953</td>\n",
              "      <td>-0.002681</td>\n",
              "    </tr>\n",
              "    <tr>\n",
              "      <th>2020-10-15</th>\n",
              "      <td>-0.987597</td>\n",
              "      <td>-1.004612</td>\n",
              "      <td>-0.971901</td>\n",
              "      <td>-0.988358</td>\n",
              "      <td>-0.701433</td>\n",
              "      <td>-0.986668</td>\n",
              "      <td>-0.015711</td>\n",
              "      <td>-0.032711</td>\n",
              "      <td>-0.005556</td>\n",
              "    </tr>\n",
              "    <tr>\n",
              "      <th>2020-10-16</th>\n",
              "      <td>-0.988787</td>\n",
              "      <td>-1.007193</td>\n",
              "      <td>-0.978365</td>\n",
              "      <td>-0.992440</td>\n",
              "      <td>-0.696273</td>\n",
              "      <td>-0.988247</td>\n",
              "      <td>-0.001190</td>\n",
              "      <td>-0.028829</td>\n",
              "      <td>0.005160</td>\n",
              "    </tr>\n",
              "    <tr>\n",
              "      <th>2020-10-17</th>\n",
              "      <td>-0.993027</td>\n",
              "      <td>-1.005390</td>\n",
              "      <td>-0.973880</td>\n",
              "      <td>-0.985132</td>\n",
              "      <td>-0.703070</td>\n",
              "      <td>-0.989761</td>\n",
              "      <td>-0.004240</td>\n",
              "      <td>-0.031510</td>\n",
              "      <td>-0.006797</td>\n",
              "    </tr>\n",
              "    <tr>\n",
              "      <th>...</th>\n",
              "      <td>...</td>\n",
              "      <td>...</td>\n",
              "      <td>...</td>\n",
              "      <td>...</td>\n",
              "      <td>...</td>\n",
              "      <td>...</td>\n",
              "      <td>...</td>\n",
              "      <td>...</td>\n",
              "      <td>...</td>\n",
              "    </tr>\n",
              "    <tr>\n",
              "      <th>2021-11-05</th>\n",
              "      <td>2.567634</td>\n",
              "      <td>2.407526</td>\n",
              "      <td>2.450127</td>\n",
              "      <td>2.311776</td>\n",
              "      <td>0.382505</td>\n",
              "      <td>1.973393</td>\n",
              "      <td>0.164718</td>\n",
              "      <td>-0.042600</td>\n",
              "      <td>-1.009675</td>\n",
              "    </tr>\n",
              "    <tr>\n",
              "      <th>2021-11-06</th>\n",
              "      <td>2.342108</td>\n",
              "      <td>2.301463</td>\n",
              "      <td>2.453179</td>\n",
              "      <td>2.514774</td>\n",
              "      <td>0.186414</td>\n",
              "      <td>2.024418</td>\n",
              "      <td>-0.225526</td>\n",
              "      <td>-0.151716</td>\n",
              "      <td>-0.196092</td>\n",
              "    </tr>\n",
              "    <tr>\n",
              "      <th>2021-11-07</th>\n",
              "      <td>2.556161</td>\n",
              "      <td>2.752222</td>\n",
              "      <td>2.734153</td>\n",
              "      <td>2.938593</td>\n",
              "      <td>1.728221</td>\n",
              "      <td>2.089757</td>\n",
              "      <td>0.214053</td>\n",
              "      <td>0.018069</td>\n",
              "      <td>1.541807</td>\n",
              "    </tr>\n",
              "    <tr>\n",
              "      <th>2021-11-08</th>\n",
              "      <td>2.978646</td>\n",
              "      <td>3.110671</td>\n",
              "      <td>3.013578</td>\n",
              "      <td>3.102073</td>\n",
              "      <td>2.898804</td>\n",
              "      <td>2.165303</td>\n",
              "      <td>0.422485</td>\n",
              "      <td>0.097094</td>\n",
              "      <td>1.170584</td>\n",
              "    </tr>\n",
              "    <tr>\n",
              "      <th>2021-11-09</th>\n",
              "      <td>3.138511</td>\n",
              "      <td>2.871991</td>\n",
              "      <td>3.181254</td>\n",
              "      <td>2.973806</td>\n",
              "      <td>0.728014</td>\n",
              "      <td>2.235594</td>\n",
              "      <td>0.159865</td>\n",
              "      <td>-0.309262</td>\n",
              "      <td>-2.170790</td>\n",
              "    </tr>\n",
              "  </tbody>\n",
              "</table>\n",
              "<p>393 rows × 9 columns</p>\n",
              "</div>"
            ],
            "text/plain": [
              "                Open      High  ...  dif_high_low  Volume_Change\n",
              "Date                            ...                             \n",
              "2020-10-11 -0.993792 -1.007056  ...     -0.032883      -0.005702\n",
              "2020-10-14 -0.971886 -0.992541  ...     -0.020953      -0.002681\n",
              "2020-10-15 -0.987597 -1.004612  ...     -0.032711      -0.005556\n",
              "2020-10-16 -0.988787 -1.007193  ...     -0.028829       0.005160\n",
              "2020-10-17 -0.993027 -1.005390  ...     -0.031510      -0.006797\n",
              "...              ...       ...  ...           ...            ...\n",
              "2021-11-05  2.567634  2.407526  ...     -0.042600      -1.009675\n",
              "2021-11-06  2.342108  2.301463  ...     -0.151716      -0.196092\n",
              "2021-11-07  2.556161  2.752222  ...      0.018069       1.541807\n",
              "2021-11-08  2.978646  3.110671  ...      0.097094       1.170584\n",
              "2021-11-09  3.138511  2.871991  ...     -0.309262      -2.170790\n",
              "\n",
              "[393 rows x 9 columns]"
            ]
          },
          "metadata": {},
          "execution_count": 8
        }
      ]
    },
    {
      "cell_type": "code",
      "metadata": {
        "id": "2d0AK2ykJbUM",
        "colab": {
          "base_uri": "https://localhost:8080/"
        },
        "outputId": "4a2bde05-b71a-49bf-8906-b1c4e7d40147"
      },
      "source": [
        "#Objective 6.\n",
        "#Split the data into training and test sets, putting the first seventy percent (70%) of the data in the training\n",
        "#set.\n",
        "\n",
        "X_train,X_test,y_train,y_test = train_test_split(X, y, test_size=0.30, random_state=0)\n",
        "\n",
        "y_test.shape"
      ],
      "execution_count": 9,
      "outputs": [
        {
          "output_type": "execute_result",
          "data": {
            "text/plain": [
              "(118,)"
            ]
          },
          "metadata": {},
          "execution_count": 9
        }
      ]
    },
    {
      "cell_type": "code",
      "metadata": {
        "id": "GR5T3HIDJbUO"
      },
      "source": [
        "#Objective 7.\n",
        "#Instantiate the Logistic Regression model object, and use its \".fit(*args)\" method to fit the model to the \n",
        "#training data.\n",
        "\n",
        "logistic = LogisticRegression()\n",
        "logistic = logistic.fit(X_train,y_train)"
      ],
      "execution_count": 10,
      "outputs": []
    },
    {
      "cell_type": "code",
      "metadata": {
        "id": "J3u7Yg4IJbUQ",
        "colab": {
          "base_uri": "https://localhost:8080/",
          "height": 328
        },
        "outputId": "02946357-953e-434a-b4c1-41fc0056c2af"
      },
      "source": [
        "#Objective 8.\n",
        "#Examine the model's coefficients by using its \".coef_\" method.\n",
        "\n",
        "pd.DataFrame(zip(X.columns, np.transpose(logistic.coef_)))"
      ],
      "execution_count": 11,
      "outputs": [
        {
          "output_type": "execute_result",
          "data": {
            "text/html": [
              "<div>\n",
              "<style scoped>\n",
              "    .dataframe tbody tr th:only-of-type {\n",
              "        vertical-align: middle;\n",
              "    }\n",
              "\n",
              "    .dataframe tbody tr th {\n",
              "        vertical-align: top;\n",
              "    }\n",
              "\n",
              "    .dataframe thead th {\n",
              "        text-align: right;\n",
              "    }\n",
              "</style>\n",
              "<table border=\"1\" class=\"dataframe\">\n",
              "  <thead>\n",
              "    <tr style=\"text-align: right;\">\n",
              "      <th></th>\n",
              "      <th>0</th>\n",
              "      <th>1</th>\n",
              "    </tr>\n",
              "  </thead>\n",
              "  <tbody>\n",
              "    <tr>\n",
              "      <th>0</th>\n",
              "      <td>Open</td>\n",
              "      <td>[0.4033300725248158]</td>\n",
              "    </tr>\n",
              "    <tr>\n",
              "      <th>1</th>\n",
              "      <td>High</td>\n",
              "      <td>[0.046566541905853215]</td>\n",
              "    </tr>\n",
              "    <tr>\n",
              "      <th>2</th>\n",
              "      <td>Low</td>\n",
              "      <td>[-0.11412994021469869]</td>\n",
              "    </tr>\n",
              "    <tr>\n",
              "      <th>3</th>\n",
              "      <td>Adj Close</td>\n",
              "      <td>[-0.10244717086410991]</td>\n",
              "    </tr>\n",
              "    <tr>\n",
              "      <th>4</th>\n",
              "      <td>Volume</td>\n",
              "      <td>[-0.16245759680083666]</td>\n",
              "    </tr>\n",
              "    <tr>\n",
              "      <th>5</th>\n",
              "      <td>Close_15_Rolling</td>\n",
              "      <td>[-0.12389185458327437]</td>\n",
              "    </tr>\n",
              "    <tr>\n",
              "      <th>6</th>\n",
              "      <td>Open_1_Change</td>\n",
              "      <td>[-0.14413719635631514]</td>\n",
              "    </tr>\n",
              "    <tr>\n",
              "      <th>7</th>\n",
              "      <td>dif_high_low</td>\n",
              "      <td>[0.1606964821205529]</td>\n",
              "    </tr>\n",
              "    <tr>\n",
              "      <th>8</th>\n",
              "      <td>Volume_Change</td>\n",
              "      <td>[0.07059508287541184]</td>\n",
              "    </tr>\n",
              "  </tbody>\n",
              "</table>\n",
              "</div>"
            ],
            "text/plain": [
              "                  0                       1\n",
              "0              Open    [0.4033300725248158]\n",
              "1              High  [0.046566541905853215]\n",
              "2               Low  [-0.11412994021469869]\n",
              "3         Adj Close  [-0.10244717086410991]\n",
              "4            Volume  [-0.16245759680083666]\n",
              "5  Close_15_Rolling  [-0.12389185458327437]\n",
              "6     Open_1_Change  [-0.14413719635631514]\n",
              "7      dif_high_low    [0.1606964821205529]\n",
              "8     Volume_Change   [0.07059508287541184]"
            ]
          },
          "metadata": {},
          "execution_count": 11
        }
      ]
    },
    {
      "cell_type": "code",
      "metadata": {
        "id": "xxeG5MpxJbUT",
        "colab": {
          "base_uri": "https://localhost:8080/"
        },
        "outputId": "5cd5b378-9d29-4463-85a2-e18f16939183"
      },
      "source": [
        "#Objective 9.\n",
        "#Use the model's \".predict_proba(*args)\" and \".predict(*args)\" methods to generate predictions over the test set.\n",
        "\n",
        "probabilities = logistic.predict_proba(X_test)\n",
        "predictions = logistic.predict(X_test)\n",
        "predictions"
      ],
      "execution_count": 12,
      "outputs": [
        {
          "output_type": "execute_result",
          "data": {
            "text/plain": [
              "array([-1, -1, -1, -1, -1, -1, -1, -1, -1, -1, -1, -1, -1,  1, -1, -1, -1,\n",
              "       -1, -1, -1, -1, -1, -1, -1, -1, -1,  1, -1,  1, -1, -1, -1, -1, -1,\n",
              "       -1, -1, -1,  1, -1, -1, -1, -1, -1, -1, -1,  1, -1, -1, -1, -1, -1,\n",
              "       -1, -1, -1, -1, -1, -1, -1, -1, -1, -1, -1, -1, -1,  1, -1, -1, -1,\n",
              "       -1, -1, -1, -1, -1,  1, -1,  1, -1, -1, -1, -1, -1, -1, -1,  1, -1,\n",
              "       -1, -1, -1, -1, -1, -1, -1, -1, -1, -1, -1, -1, -1, -1, -1, -1, -1,\n",
              "       -1, -1, -1, -1, -1, -1, -1,  1, -1, -1, -1,  1, -1, -1, -1, -1])"
            ]
          },
          "metadata": {},
          "execution_count": 12
        }
      ]
    },
    {
      "cell_type": "code",
      "metadata": {
        "id": "S-iVWTrcJbUU",
        "colab": {
          "base_uri": "https://localhost:8080/"
        },
        "outputId": "300d93b8-2261-447d-a0ef-5f21a44b7d19"
      },
      "source": [
        "#Objective 10.\n",
        "#Use the function \"metrics.confusion_matrix(*args)\" to create a confusion matrix comparing the predicted and true\n",
        "#classification labels over the test set.\n",
        "cnf_matrix = metrics.confusion_matrix(y_test, predictions)\n",
        "cnf_matrix\n",
        "#TODO"
      ],
      "execution_count": 13,
      "outputs": [
        {
          "output_type": "execute_result",
          "data": {
            "text/plain": [
              "array([[57,  7],\n",
              "       [50,  4]])"
            ]
          },
          "metadata": {},
          "execution_count": 13
        }
      ]
    },
    {
      "cell_type": "code",
      "metadata": {
        "id": "r98eUZGPJbUV",
        "colab": {
          "base_uri": "https://localhost:8080/"
        },
        "outputId": "2569d660-85f2-47a0-9073-c691043f2884"
      },
      "source": [
        "#Objective 11.\n",
        "#Calculate the model's accuracy on the test set using its \".score(*args)\" method.\n",
        "from sklearn.metrics import accuracy_score \n",
        "accuracy = accuracy_score(y_test,predictions)\n",
        "accuracy"
      ],
      "execution_count": 14,
      "outputs": [
        {
          "output_type": "execute_result",
          "data": {
            "text/plain": [
              "0.5169491525423728"
            ]
          },
          "metadata": {},
          "execution_count": 14
        }
      ]
    },
    {
      "cell_type": "code",
      "metadata": {
        "id": "EvEjrHaTJbUW",
        "colab": {
          "base_uri": "https://localhost:8080/"
        },
        "outputId": "fac48774-788e-47f5-9d83-7e4cd27f3025"
      },
      "source": [
        "#Objective 12.\n",
        "#Use five-fold cross validation to cross-check the accuracy of the model over different held-out test sets.  This\n",
        "#is where you should use the function \"cross_val_score(*args)\".\n",
        "cross_val = cross_val_score(logistic,X, y, cv=5)\n",
        "cross_val"
      ],
      "execution_count": 15,
      "outputs": [
        {
          "output_type": "execute_result",
          "data": {
            "text/plain": [
              "array([0.53164557, 0.48101266, 0.44303797, 0.42307692, 0.3974359 ])"
            ]
          },
          "metadata": {},
          "execution_count": 15
        }
      ]
    },
    {
      "cell_type": "code",
      "metadata": {
        "id": "xTXMmNoYJbUX"
      },
      "source": [
        ""
      ],
      "execution_count": 15,
      "outputs": []
    }
  ]
}