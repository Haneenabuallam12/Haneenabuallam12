{
  "nbformat": 4,
  "nbformat_minor": 0,
  "metadata": {
    "colab": {
      "name": "Untitled10.ipynb",
      "provenance": [],
      "authorship_tag": "ABX9TyP6EsScpqFORkGFfYrg5Y5p",
      "include_colab_link": true
    },
    "kernelspec": {
      "name": "python3",
      "display_name": "Python 3"
    },
    "language_info": {
      "name": "python"
    }
  },
  "cells": [
    {
      "cell_type": "markdown",
      "metadata": {
        "id": "view-in-github",
        "colab_type": "text"
      },
      "source": [
        "<a href=\"https://colab.research.google.com/github/Haneenabuallam12/Haneenabuallam12/blob/main/proof%20of%20work%20.ipynb\" target=\"_parent\"><img src=\"https://colab.research.google.com/assets/colab-badge.svg\" alt=\"Open In Colab\"/></a>"
      ]
    },
    {
      "cell_type": "code",
      "metadata": {
        "colab": {
          "base_uri": "https://localhost:8080/"
        },
        "id": "Kqg5fHbV985N",
        "outputId": "e5d86913-d377-4191-f37b-c0535addaf8f"
      },
      "source": [
        "!pip install hashlib"
      ],
      "execution_count": 3,
      "outputs": [
        {
          "output_type": "stream",
          "name": "stdout",
          "text": [
            "Collecting hashlib\n",
            "  Downloading hashlib-20081119.zip (42 kB)\n",
            "\u001b[?25l\r\u001b[K     |███████▊                        | 10 kB 26.1 MB/s eta 0:00:01\r\u001b[K     |███████████████▌                | 20 kB 32.8 MB/s eta 0:00:01\r\u001b[K     |███████████████████████▎        | 30 kB 38.9 MB/s eta 0:00:01\r\u001b[K     |███████████████████████████████ | 40 kB 40.9 MB/s eta 0:00:01\r\u001b[K     |████████████████████████████████| 42 kB 1.2 MB/s \n",
            "\u001b[33mWARNING: Discarding https://files.pythonhosted.org/packages/74/bb/9003d081345e9f0451884146e9ea2cff6e4cc4deac9ffd4a9ee98b318a49/hashlib-20081119.zip#sha256=419de2fd10ae71ed9c6adcb55903f116abd1d8acc8c814dfd5f839b4d5013e38 (from https://pypi.org/simple/hashlib/). Command errored out with exit status 1: python setup.py egg_info Check the logs for full command output.\u001b[0m\n",
            "\u001b[31mERROR: Could not find a version that satisfies the requirement hashlib (from versions: 20081119)\u001b[0m\n",
            "\u001b[31mERROR: No matching distribution found for hashlib\u001b[0m\n",
            "\u001b[?25h"
          ]
        }
      ]
    },
    {
      "cell_type": "code",
      "metadata": {
        "id": "sQJlkNui933R"
      },
      "source": [
        "import hashlib # imports library with SHA-256 hashing algo\n",
        "import datetime # imports library to track time"
      ],
      "execution_count": 4,
      "outputs": []
    },
    {
      "cell_type": "code",
      "metadata": {
        "colab": {
          "base_uri": "https://localhost:8080/"
        },
        "id": "KBQD_Pms-IRV",
        "outputId": "16e026f5-1311-4160-e044-9389cc01480c"
      },
      "source": [
        "t1 = datetime.datetime.now() # start time\n",
        "nonce = 1 # Starts the nonce at 1\n",
        "solution = False\n",
        "while solution == False: # loop until true\n",
        "    ourhash = hashlib.sha256(str(nonce).encode()).hexdigest() # inputs nonce into hash function\n",
        "    if ourhash[:7] == '0000000': # look for hash with 7 proceeding zeros\n",
        "        solution =True # those who find the solution will have 'proved' they put in 'work'\n",
        "    nonce +=1 # increase nonce by 1 and try again\n",
        "t2 = datetime.datetime.now() # end time\n",
        "duration = t2 - t1 # time elapsed\n",
        "print (\"The hash is:\",ourhash)\n",
        "print (\"The nonce is:\",nonce)    \n",
        "print (\"Time elapsed:\",duration)"
      ],
      "execution_count": 5,
      "outputs": [
        {
          "output_type": "stream",
          "name": "stdout",
          "text": [
            "The hash is: 0000000399c6aea5ad0c709a9bc331a3ed6494702bd1d129d8c817a0257a1462\n",
            "The nonce is: 665783\n",
            "Time elapsed: 0:00:00.953391\n"
          ]
        }
      ]
    },
    {
      "cell_type": "code",
      "metadata": {
        "colab": {
          "base_uri": "https://localhost:8080/"
        },
        "id": "g3OhEyvHArT1",
        "outputId": "090830f1-0d16-4f7b-bada-61c87d27f843"
      },
      "source": [
        "t01 = datetime.datetime.now() # start time\n",
        "nonce = 1 # Starts the nonce at 1\n",
        "solution = False\n",
        "while solution == False: # loop until true\n",
        "    ourhash = hashlib.sha256(str(nonce).encode()).hexdigest() # inputs nonce into hash function\n",
        "    if ourhash[:8] == '00000000': # look for hash with 7 proceeding zeros\n",
        "        solution =True # those who find the solution will have 'proved' they put in 'work'\n",
        "    nonce +=1 # increase nonce by 1 and try again\n",
        "t02 = datetime.datetime.now() # end time\n",
        "duration = t02 - t01 # time elapsed\n",
        "print (\"The hash is:\",ourhash)\n",
        "print (\"The nonce is:\",nonce)    \n",
        "print (\"Time elapsed:\",duration)"
      ],
      "execution_count": 6,
      "outputs": [
        {
          "output_type": "stream",
          "name": "stdout",
          "text": [
            "The hash is: 00000000690ed426ccf17803ebe2bd0884bcd58a1bb5e7477ead3645f356e7a9\n",
            "The nonce is: 426479725\n",
            "Time elapsed: 0:10:02.379107\n"
          ]
        }
      ]
    }
  ]
}