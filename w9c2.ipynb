{
  "nbformat": 4,
  "nbformat_minor": 0,
  "metadata": {
    "colab": {
      "name": "w9c2.ipynb",
      "provenance": [],
      "authorship_tag": "ABX9TyNBdvooMjeWoFG/cHLKp+ng",
      "include_colab_link": true
    },
    "kernelspec": {
      "name": "python3",
      "display_name": "Python 3"
    },
    "language_info": {
      "name": "python"
    }
  },
  "cells": [
    {
      "cell_type": "markdown",
      "metadata": {
        "id": "view-in-github",
        "colab_type": "text"
      },
      "source": [
        "<a href=\"https://colab.research.google.com/github/Haneenabuallam12/Haneenabuallam12/blob/main/w9c2.ipynb\" target=\"_parent\"><img src=\"https://colab.research.google.com/assets/colab-badge.svg\" alt=\"Open In Colab\"/></a>"
      ]
    },
    {
      "cell_type": "code",
      "execution_count": 1,
      "metadata": {
        "id": "Aq3AKSeGTEM3"
      },
      "outputs": [],
      "source": [
        "from hashlib import sha256\n",
        "import datetime\n",
        "import time\n",
        "import json"
      ]
    },
    {
      "cell_type": "code",
      "source": [
        "#Eg:\n",
        "tx_1 = {\n",
        "   \"addr_from\": \"3J98t1WpEZ73CNmQviecrnyiWrnqRhWNLy\",\n",
        "   \"addr_to\": \"1BvBMSEYstWetqTFn5Au4m4GFg7xJaNVN2\",   \n",
        "   \"amount\": 99.00\n",
        "}\n",
        "tx_2 = {\n",
        "   \"addr_from\": \"5J98t1WpEZ73CNmQviecrnyiWrnqRhWNLy\",\n",
        "   \"addr_to\": \"2BvBMSEYstWetqTFn5Au4m4GFg7xJaNVN2\",   \n",
        "   \"amount\": 150.00\n",
        "}"
      ],
      "metadata": {
        "id": "6QJquV0IUeZE"
      },
      "execution_count": 2,
      "outputs": []
    },
    {
      "cell_type": "code",
      "source": [
        "class Block:      \n",
        "    def __init__(self, index, transactions, timestamp, previous_hash, nonce=0):\n",
        "        self.index = index\n",
        "        self.transactions = transactions\n",
        "        self.timestamp = timestamp\n",
        "        self.previous_hash = previous_hash\n",
        "        self.nonce = nonce\n",
        "        \n",
        "    def compute_hash(self):\n",
        "        block_string = json.dumps(self.__dict__, sort_keys=True)\n",
        "        return sha256(block_string.encode()).hexdigest()"
      ],
      "metadata": {
        "id": "s1QE2D9RUqmD"
      },
      "execution_count": 3,
      "outputs": []
    },
    {
      "cell_type": "code",
      "source": [
        "class Blockchain:     \n",
        "   def __init__(self):\n",
        "       self.unconfirmed_transactions = []\n",
        "       self.chain = []\n",
        "       self.difficulty = 4\n",
        "       self.create_genesis_block() \n",
        " \n",
        "     \n",
        "   def create_genesis_block(self):\n",
        "        genesis_block = Block(0, [\"in the name of allah the most gracious the most merciful ,  First, do no harm\"], time.time(), \"0\")\n",
        "        genesis_block.hash = genesis_block.compute_hash()\n",
        "        self.chain.append(genesis_block)\n",
        "   @property\n",
        "   def last_block(self):\n",
        "      return self.chain[-1] \n",
        "   \n",
        "   \n",
        "   def proof_of_work(self, block):\n",
        "          block.nonce = 1\n",
        "          computed_hash = block.compute_hash()\n",
        "          while not computed_hash.startswith('0' * self.difficulty):\n",
        "             block.nonce += 1\n",
        "             computed_hash = block.compute_hash()\n",
        "          return computed_hash\n",
        "   \n",
        "   def is_valid_proof(self, block, block_hash):\n",
        "        return (block_hash.startswith('0' * self.difficulty) and block_hash == block.compute_hash())\n",
        "   \n",
        "   def add_block(self, block, proof):\n",
        "        previous_hash = self.last_block.hash\n",
        "        if previous_hash != block.previous_hash:\n",
        "            return False\n",
        "        if not self.is_valid_proof(block, proof):\n",
        "            return False\n",
        "        block.hash = proof\n",
        "        self.chain.append(block)\n",
        "        return True\n",
        "   def add_new_transaction(self, transaction):\n",
        "            self.unconfirmed_transactions.append(transaction)    \n",
        "   \n",
        "   def mine(self):\n",
        "        if not self.unconfirmed_transactions:\n",
        "            return False\n",
        " \n",
        "        last_block = self.last_block\n",
        " \n",
        "        new_block = Block(index=last_block.index + 1,\n",
        "                          transactions=self.unconfirmed_transactions,\n",
        "                          timestamp=time.time(),\n",
        "                          previous_hash=last_block.hash)\n",
        " \n",
        "        proof = self.proof_of_work(new_block)\n",
        "        self.add_block(new_block, proof)\n",
        "        self.unconfirmed_transactions = []\n",
        "        return new_block.index\n",
        "           "
      ],
      "metadata": {
        "id": "pGDfNHEbUtgw"
      },
      "execution_count": 4,
      "outputs": []
    },
    {
      "cell_type": "code",
      "source": [
        "Titans = Blockchain()\n",
        "\n",
        "while len(Titans.chain) <10:\n",
        "    Titans.add_new_transaction(tx_1)\n",
        "    Titans.mine()\n",
        "    print(Titans.chain[-1].hash)\n",
        "    print(str(Titans.chain[-1].nonce))"
      ],
      "metadata": {
        "colab": {
          "base_uri": "https://localhost:8080/"
        },
        "id": "L39oXXm6VARu",
        "outputId": "fe1ff54e-d93e-4b39-e1d1-53de95048615"
      },
      "execution_count": 5,
      "outputs": [
        {
          "output_type": "stream",
          "name": "stdout",
          "text": [
            "00003a81535408b17fb96fe659aae7f73209839af5251459f422b62913f42b5d\n",
            "120382\n",
            "000010b64b473fbc3a7402370dd1d2a1582e0c065532ba58b85714a5a7c6c384\n",
            "15367\n",
            "000064d79ea1d6f33c50b348d68f92fad3681733eeb5e1fbf72bdc5a586a5807\n",
            "39460\n",
            "0000a276a20bc9e5819d46d77b92e8c6af67a0210d947ef9778ab8fb92448b6b\n",
            "36660\n",
            "00000ed1cd1be38d8561ee11299026f952224f0beb8408bfdee5b951224d11d6\n",
            "55778\n",
            "00008f00f509e357ed84f08801a9adfb8bfdd59a1c794470c4e904067b6e5184\n",
            "65710\n",
            "00000992a88ba7849fe35c528b2683e01349ad23e06c818b7990e59da6e06f3e\n",
            "59327\n",
            "00005bd1f5ee49717b00151cfe025afb4e7a614db12b8e7a976e85a8b34f76b6\n",
            "129521\n",
            "0000c5e1ae86b3e03278aed662b387876fb9b52e7c80b99a29d330a97b79faf1\n",
            "9534\n"
          ]
        }
      ]
    }
  ]
}